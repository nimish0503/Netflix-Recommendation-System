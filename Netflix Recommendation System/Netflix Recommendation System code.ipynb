{
 "cells": [
  {
   "cell_type": "markdown",
   "metadata": {
    "papermill": {
     "duration": 0.060545,
     "end_time": "2021-06-22T09:26:57.939385",
     "exception": false,
     "start_time": "2021-06-22T09:26:57.878840",
     "status": "completed"
    },
    "tags": []
   },
   "source": [
    "# <center> Netflix EDA and Movie Recommendation System"
   ]
  },
  {
   "cell_type": "markdown",
   "metadata": {
    "papermill": {
     "duration": 0.040062,
     "end_time": "2021-06-22T09:26:58.196460",
     "exception": false,
     "start_time": "2021-06-22T09:26:58.156398",
     "status": "completed"
    },
    "tags": []
   },
   "source": [
    "## 1. Importing libraries"
   ]
  },
  {
   "cell_type": "code",
   "execution_count": 1,
   "metadata": {
    "execution": {
     "iopub.execute_input": "2021-07-12T18:55:49.022244Z",
     "iopub.status.busy": "2021-07-12T18:55:49.021835Z",
     "iopub.status.idle": "2021-07-12T18:55:50.134570Z",
     "shell.execute_reply": "2021-07-12T18:55:50.133465Z",
     "shell.execute_reply.started": "2021-07-12T18:55:49.022160Z"
    },
    "papermill": {
     "duration": 2.300829,
     "end_time": "2021-06-22T09:27:00.539021",
     "exception": false,
     "start_time": "2021-06-22T09:26:58.238192",
     "status": "completed"
    },
    "tags": []
   },
   "outputs": [],
   "source": [
    "import numpy as np\n",
    "import pandas as pd\n",
    "import seaborn as sns\n",
    "import matplotlib.pyplot as plt\n",
    "%matplotlib inline\n",
    "\n",
    "import warnings\n",
    "warnings.filterwarnings(\"ignore\")\n"
   ]
  },
  {
   "cell_type": "markdown",
   "metadata": {
    "papermill": {
     "duration": 0.039341,
     "end_time": "2021-06-22T09:27:00.618513",
     "exception": false,
     "start_time": "2021-06-22T09:27:00.579172",
     "status": "completed"
    },
    "tags": []
   },
   "source": [
    "### Reading Data"
   ]
  },
  {
   "cell_type": "code",
   "execution_count": 2,
   "metadata": {
    "execution": {
     "iopub.execute_input": "2021-07-12T18:55:50.136379Z",
     "iopub.status.busy": "2021-07-12T18:55:50.136077Z",
     "iopub.status.idle": "2021-07-12T18:55:50.297542Z",
     "shell.execute_reply": "2021-07-12T18:55:50.296406Z",
     "shell.execute_reply.started": "2021-07-12T18:55:50.136351Z"
    },
    "papermill": {
     "duration": 0.191971,
     "end_time": "2021-06-22T09:27:00.850393",
     "exception": false,
     "start_time": "2021-06-22T09:27:00.658422",
     "status": "completed"
    },
    "tags": []
   },
   "outputs": [
    {
     "data": {
      "text/html": [
       "<div>\n",
       "<style scoped>\n",
       "    .dataframe tbody tr th:only-of-type {\n",
       "        vertical-align: middle;\n",
       "    }\n",
       "\n",
       "    .dataframe tbody tr th {\n",
       "        vertical-align: top;\n",
       "    }\n",
       "\n",
       "    .dataframe thead th {\n",
       "        text-align: right;\n",
       "    }\n",
       "</style>\n",
       "<table border=\"1\" class=\"dataframe\">\n",
       "  <thead>\n",
       "    <tr style=\"text-align: right;\">\n",
       "      <th></th>\n",
       "      <th>show_id</th>\n",
       "      <th>type</th>\n",
       "      <th>title</th>\n",
       "      <th>director</th>\n",
       "      <th>cast</th>\n",
       "      <th>country</th>\n",
       "      <th>date_added</th>\n",
       "      <th>release_year</th>\n",
       "      <th>rating</th>\n",
       "      <th>budget</th>\n",
       "      <th>revenue</th>\n",
       "      <th>duration</th>\n",
       "      <th>listed_in</th>\n",
       "      <th>description</th>\n",
       "    </tr>\n",
       "  </thead>\n",
       "  <tbody>\n",
       "    <tr>\n",
       "      <th>0</th>\n",
       "      <td>s1</td>\n",
       "      <td>Movie</td>\n",
       "      <td>Dick Johnson Is Dead</td>\n",
       "      <td>Kirsten Johnson</td>\n",
       "      <td>NaN</td>\n",
       "      <td>United States</td>\n",
       "      <td>September 25, 2021</td>\n",
       "      <td>2020.0</td>\n",
       "      <td>PG-13</td>\n",
       "      <td>30000000</td>\n",
       "      <td>373554033.0</td>\n",
       "      <td>90 min</td>\n",
       "      <td>Documentaries</td>\n",
       "      <td>As her father nears the end of his life, filmm...</td>\n",
       "    </tr>\n",
       "    <tr>\n",
       "      <th>1</th>\n",
       "      <td>s2</td>\n",
       "      <td>TV Show</td>\n",
       "      <td>Blood &amp; Water</td>\n",
       "      <td>NaN</td>\n",
       "      <td>Ama Qamata, Khosi Ngema, Gail Mabalane, Thaban...</td>\n",
       "      <td>South Africa</td>\n",
       "      <td>September 24, 2021</td>\n",
       "      <td>2021.0</td>\n",
       "      <td>TV-MA</td>\n",
       "      <td>65000000</td>\n",
       "      <td>262797249.0</td>\n",
       "      <td>2 Seasons</td>\n",
       "      <td>International TV Shows, TV Dramas, TV Mysteries</td>\n",
       "      <td>After crossing paths at a party, a Cape Town t...</td>\n",
       "    </tr>\n",
       "    <tr>\n",
       "      <th>2</th>\n",
       "      <td>s3</td>\n",
       "      <td>TV Show</td>\n",
       "      <td>Ganglands</td>\n",
       "      <td>Julien Leclercq</td>\n",
       "      <td>Sami Bouajila, Tracy Gotoas, Samuel Jouy, Nabi...</td>\n",
       "      <td>NaN</td>\n",
       "      <td>September 24, 2021</td>\n",
       "      <td>2021.0</td>\n",
       "      <td>TV-MA</td>\n",
       "      <td>0</td>\n",
       "      <td>0.0</td>\n",
       "      <td>1 Season</td>\n",
       "      <td>Crime TV Shows, International TV Shows, TV Act...</td>\n",
       "      <td>To protect his family from a powerful drug lor...</td>\n",
       "    </tr>\n",
       "    <tr>\n",
       "      <th>3</th>\n",
       "      <td>s4</td>\n",
       "      <td>TV Show</td>\n",
       "      <td>Jailbirds New Orleans</td>\n",
       "      <td>NaN</td>\n",
       "      <td>NaN</td>\n",
       "      <td>NaN</td>\n",
       "      <td>September 24, 2021</td>\n",
       "      <td>2021.0</td>\n",
       "      <td>TV-MA</td>\n",
       "      <td>16000000</td>\n",
       "      <td>81452156.0</td>\n",
       "      <td>1 Season</td>\n",
       "      <td>Docuseries, Reality TV</td>\n",
       "      <td>Feuds, flirtations and toilet talk go down amo...</td>\n",
       "    </tr>\n",
       "    <tr>\n",
       "      <th>4</th>\n",
       "      <td>s5</td>\n",
       "      <td>TV Show</td>\n",
       "      <td>Kota Factory</td>\n",
       "      <td>NaN</td>\n",
       "      <td>Mayur More, Jitendra Kumar, Ranjan Raj, Alam K...</td>\n",
       "      <td>India</td>\n",
       "      <td>September 24, 2021</td>\n",
       "      <td>2021.0</td>\n",
       "      <td>TV-MA</td>\n",
       "      <td>0</td>\n",
       "      <td>76578911.0</td>\n",
       "      <td>2 Seasons</td>\n",
       "      <td>International TV Shows, Romantic TV Shows, TV ...</td>\n",
       "      <td>In a city of coaching centers known to train I...</td>\n",
       "    </tr>\n",
       "  </tbody>\n",
       "</table>\n",
       "</div>"
      ],
      "text/plain": [
       "  show_id     type                  title         director  \\\n",
       "0      s1    Movie   Dick Johnson Is Dead  Kirsten Johnson   \n",
       "1      s2  TV Show          Blood & Water              NaN   \n",
       "2      s3  TV Show              Ganglands  Julien Leclercq   \n",
       "3      s4  TV Show  Jailbirds New Orleans              NaN   \n",
       "4      s5  TV Show           Kota Factory              NaN   \n",
       "\n",
       "                                                cast        country  \\\n",
       "0                                                NaN  United States   \n",
       "1  Ama Qamata, Khosi Ngema, Gail Mabalane, Thaban...   South Africa   \n",
       "2  Sami Bouajila, Tracy Gotoas, Samuel Jouy, Nabi...            NaN   \n",
       "3                                                NaN            NaN   \n",
       "4  Mayur More, Jitendra Kumar, Ranjan Raj, Alam K...          India   \n",
       "\n",
       "           date_added  release_year rating    budget      revenue   duration  \\\n",
       "0  September 25, 2021        2020.0  PG-13  30000000  373554033.0     90 min   \n",
       "1  September 24, 2021        2021.0  TV-MA  65000000  262797249.0  2 Seasons   \n",
       "2  September 24, 2021        2021.0  TV-MA         0          0.0   1 Season   \n",
       "3  September 24, 2021        2021.0  TV-MA  16000000   81452156.0   1 Season   \n",
       "4  September 24, 2021        2021.0  TV-MA         0   76578911.0  2 Seasons   \n",
       "\n",
       "                                           listed_in  \\\n",
       "0                                      Documentaries   \n",
       "1    International TV Shows, TV Dramas, TV Mysteries   \n",
       "2  Crime TV Shows, International TV Shows, TV Act...   \n",
       "3                             Docuseries, Reality TV   \n",
       "4  International TV Shows, Romantic TV Shows, TV ...   \n",
       "\n",
       "                                         description  \n",
       "0  As her father nears the end of his life, filmm...  \n",
       "1  After crossing paths at a party, a Cape Town t...  \n",
       "2  To protect his family from a powerful drug lor...  \n",
       "3  Feuds, flirtations and toilet talk go down amo...  \n",
       "4  In a city of coaching centers known to train I...  "
      ]
     },
     "execution_count": 2,
     "metadata": {},
     "output_type": "execute_result"
    }
   ],
   "source": [
    "df=pd.read_csv(\"/Users/Michela/Documents/IDS/netflix_titles.csv\")\n",
    "df.head()"
   ]
  },
  {
   "cell_type": "code",
   "execution_count": 3,
   "metadata": {
    "execution": {
     "iopub.execute_input": "2021-07-12T18:55:50.136379Z",
     "iopub.status.busy": "2021-07-12T18:55:50.136077Z",
     "iopub.status.idle": "2021-07-12T18:55:50.297542Z",
     "shell.execute_reply": "2021-07-12T18:55:50.296406Z",
     "shell.execute_reply.started": "2021-07-12T18:55:50.136351Z"
    },
    "papermill": {
     "duration": 0.191971,
     "end_time": "2021-06-22T09:27:00.850393",
     "exception": false,
     "start_time": "2021-06-22T09:27:00.658422",
     "status": "completed"
    },
    "tags": []
   },
   "outputs": [
    {
     "data": {
      "text/plain": [
       "(8808, 14)"
      ]
     },
     "execution_count": 3,
     "metadata": {},
     "output_type": "execute_result"
    }
   ],
   "source": [
    "df.shape "
   ]
  },
  {
   "cell_type": "code",
   "execution_count": 4,
   "metadata": {},
   "outputs": [
    {
     "data": {
      "text/html": [
       "<div>\n",
       "<style scoped>\n",
       "    .dataframe tbody tr th:only-of-type {\n",
       "        vertical-align: middle;\n",
       "    }\n",
       "\n",
       "    .dataframe tbody tr th {\n",
       "        vertical-align: top;\n",
       "    }\n",
       "\n",
       "    .dataframe thead th {\n",
       "        text-align: right;\n",
       "    }\n",
       "</style>\n",
       "<table border=\"1\" class=\"dataframe\">\n",
       "  <thead>\n",
       "    <tr style=\"text-align: right;\">\n",
       "      <th></th>\n",
       "      <th>title</th>\n",
       "      <th>listed_in</th>\n",
       "    </tr>\n",
       "  </thead>\n",
       "  <tbody>\n",
       "    <tr>\n",
       "      <th>0</th>\n",
       "      <td>Dick Johnson Is Dead</td>\n",
       "      <td>Documentaries</td>\n",
       "    </tr>\n",
       "    <tr>\n",
       "      <th>1</th>\n",
       "      <td>Blood &amp; Water</td>\n",
       "      <td>International TV Shows, TV Dramas, TV Mysteries</td>\n",
       "    </tr>\n",
       "    <tr>\n",
       "      <th>2</th>\n",
       "      <td>Ganglands</td>\n",
       "      <td>Crime TV Shows, International TV Shows, TV Act...</td>\n",
       "    </tr>\n",
       "    <tr>\n",
       "      <th>3</th>\n",
       "      <td>Jailbirds New Orleans</td>\n",
       "      <td>Docuseries, Reality TV</td>\n",
       "    </tr>\n",
       "    <tr>\n",
       "      <th>4</th>\n",
       "      <td>Kota Factory</td>\n",
       "      <td>International TV Shows, Romantic TV Shows, TV ...</td>\n",
       "    </tr>\n",
       "    <tr>\n",
       "      <th>...</th>\n",
       "      <td>...</td>\n",
       "      <td>...</td>\n",
       "    </tr>\n",
       "    <tr>\n",
       "      <th>8803</th>\n",
       "      <td>Zombie Dumb</td>\n",
       "      <td>Kids' TV, Korean TV Shows, TV Comedies</td>\n",
       "    </tr>\n",
       "    <tr>\n",
       "      <th>8804</th>\n",
       "      <td>Zombieland</td>\n",
       "      <td>Comedies, Horror Movies</td>\n",
       "    </tr>\n",
       "    <tr>\n",
       "      <th>8805</th>\n",
       "      <td>Zoom</td>\n",
       "      <td>Children &amp; Family Movies, Comedies</td>\n",
       "    </tr>\n",
       "    <tr>\n",
       "      <th>8806</th>\n",
       "      <td>Zubaan</td>\n",
       "      <td>Dramas, International Movies, Music &amp; Musicals</td>\n",
       "    </tr>\n",
       "    <tr>\n",
       "      <th>8807</th>\n",
       "      <td>NaN</td>\n",
       "      <td>NaN</td>\n",
       "    </tr>\n",
       "  </tbody>\n",
       "</table>\n",
       "<p>8808 rows × 2 columns</p>\n",
       "</div>"
      ],
      "text/plain": [
       "                      title                                          listed_in\n",
       "0      Dick Johnson Is Dead                                      Documentaries\n",
       "1             Blood & Water    International TV Shows, TV Dramas, TV Mysteries\n",
       "2                 Ganglands  Crime TV Shows, International TV Shows, TV Act...\n",
       "3     Jailbirds New Orleans                             Docuseries, Reality TV\n",
       "4              Kota Factory  International TV Shows, Romantic TV Shows, TV ...\n",
       "...                     ...                                                ...\n",
       "8803            Zombie Dumb             Kids' TV, Korean TV Shows, TV Comedies\n",
       "8804             Zombieland                            Comedies, Horror Movies\n",
       "8805                   Zoom                 Children & Family Movies, Comedies\n",
       "8806                 Zubaan     Dramas, International Movies, Music & Musicals\n",
       "8807                    NaN                                                NaN\n",
       "\n",
       "[8808 rows x 2 columns]"
      ]
     },
     "execution_count": 4,
     "metadata": {},
     "output_type": "execute_result"
    }
   ],
   "source": [
    "df[['title','listed_in']]"
   ]
  },
  {
   "cell_type": "code",
   "execution_count": 5,
   "metadata": {},
   "outputs": [],
   "source": [
    "df0 = df[:50]\n",
    "df1 = df[50:100]\n",
    "df2 = df[100:]"
   ]
  },
  {
   "cell_type": "markdown",
   "metadata": {
    "papermill": {
     "duration": 0.042072,
     "end_time": "2021-06-22T09:27:01.015894",
     "exception": false,
     "start_time": "2021-06-22T09:27:00.973822",
     "status": "completed"
    },
    "tags": []
   },
   "source": [
    "## 2. Data Exploration"
   ]
  },
  {
   "cell_type": "code",
   "execution_count": 6,
   "metadata": {
    "execution": {
     "iopub.execute_input": "2021-07-12T18:55:50.136379Z",
     "iopub.status.busy": "2021-07-12T18:55:50.136077Z",
     "iopub.status.idle": "2021-07-12T18:55:50.297542Z",
     "shell.execute_reply": "2021-07-12T18:55:50.296406Z",
     "shell.execute_reply.started": "2021-07-12T18:55:50.136351Z"
    },
    "papermill": {
     "duration": 0.191971,
     "end_time": "2021-06-22T09:27:00.850393",
     "exception": false,
     "start_time": "2021-06-22T09:27:00.658422",
     "status": "completed"
    },
    "tags": []
   },
   "outputs": [
    {
     "name": "stdout",
     "output_type": "stream",
     "text": [
      "<class 'pandas.core.frame.DataFrame'>\n",
      "RangeIndex: 8808 entries, 0 to 8807\n",
      "Data columns (total 14 columns):\n",
      " #   Column        Non-Null Count  Dtype  \n",
      "---  ------        --------------  -----  \n",
      " 0   show_id       8807 non-null   object \n",
      " 1   type          8807 non-null   object \n",
      " 2   title         8807 non-null   object \n",
      " 3   director      6173 non-null   object \n",
      " 4   cast          7982 non-null   object \n",
      " 5   country       7976 non-null   object \n",
      " 6   date_added    8797 non-null   object \n",
      " 7   release_year  8807 non-null   float64\n",
      " 8   rating        8803 non-null   object \n",
      " 9   budget        8808 non-null   int64  \n",
      " 10  revenue       8807 non-null   float64\n",
      " 11  duration      8804 non-null   object \n",
      " 12  listed_in     8807 non-null   object \n",
      " 13  description   8807 non-null   object \n",
      "dtypes: float64(2), int64(1), object(11)\n",
      "memory usage: 963.5+ KB\n"
     ]
    }
   ],
   "source": [
    "df.info()"
   ]
  },
  {
   "cell_type": "markdown",
   "metadata": {},
   "source": [
    "### --> Checking for missing values"
   ]
  },
  {
   "cell_type": "code",
   "execution_count": 7,
   "metadata": {
    "execution": {
     "iopub.execute_input": "2021-07-12T18:55:50.136379Z",
     "iopub.status.busy": "2021-07-12T18:55:50.136077Z",
     "iopub.status.idle": "2021-07-12T18:55:50.297542Z",
     "shell.execute_reply": "2021-07-12T18:55:50.296406Z",
     "shell.execute_reply.started": "2021-07-12T18:55:50.136351Z"
    },
    "papermill": {
     "duration": 0.191971,
     "end_time": "2021-06-22T09:27:00.850393",
     "exception": false,
     "start_time": "2021-06-22T09:27:00.658422",
     "status": "completed"
    },
    "tags": []
   },
   "outputs": [
    {
     "data": {
      "text/plain": [
       "show_id            1\n",
       "type               1\n",
       "title              1\n",
       "director        2635\n",
       "cast             826\n",
       "country          832\n",
       "date_added        11\n",
       "release_year       1\n",
       "rating             5\n",
       "budget             0\n",
       "revenue            1\n",
       "duration           4\n",
       "listed_in          1\n",
       "description        1\n",
       "dtype: int64"
      ]
     },
     "execution_count": 7,
     "metadata": {},
     "output_type": "execute_result"
    }
   ],
   "source": [
    "df.isnull().sum()"
   ]
  },
  {
   "cell_type": "markdown",
   "metadata": {
    "papermill": {
     "duration": 0.043067,
     "end_time": "2021-06-22T09:27:02.247084",
     "exception": false,
     "start_time": "2021-06-22T09:27:02.204017",
     "status": "completed"
    },
    "tags": []
   },
   "source": [
    "### --> Handling missing values"
   ]
  },
  {
   "cell_type": "code",
   "execution_count": 8,
   "metadata": {
    "execution": {
     "iopub.execute_input": "2021-07-12T18:55:50.136379Z",
     "iopub.status.busy": "2021-07-12T18:55:50.136077Z",
     "iopub.status.idle": "2021-07-12T18:55:50.297542Z",
     "shell.execute_reply": "2021-07-12T18:55:50.296406Z",
     "shell.execute_reply.started": "2021-07-12T18:55:50.136351Z"
    },
    "papermill": {
     "duration": 0.191971,
     "end_time": "2021-06-22T09:27:00.850393",
     "exception": false,
     "start_time": "2021-06-22T09:27:00.658422",
     "status": "completed"
    },
    "tags": []
   },
   "outputs": [
    {
     "data": {
      "text/plain": [
       "show_id            1\n",
       "type               1\n",
       "title              1\n",
       "director        2635\n",
       "cast             826\n",
       "country            0\n",
       "date_added         0\n",
       "release_year       1\n",
       "rating             0\n",
       "budget             0\n",
       "revenue            1\n",
       "duration           4\n",
       "listed_in          1\n",
       "description        1\n",
       "dtype: int64"
      ]
     },
     "execution_count": 8,
     "metadata": {},
     "output_type": "execute_result"
    }
   ],
   "source": [
    "df['country'] = df['country'].fillna(df['country'].mode()[0])\n",
    "df['date_added'] = df['date_added'].fillna(df['date_added'].mode()[0])\n",
    "df['rating'] = df['rating'].fillna(df['country'].mode()[0])\n",
    "df.isnull().sum()"
   ]
  },
  {
   "cell_type": "code",
   "execution_count": 9,
   "metadata": {
    "execution": {
     "iopub.execute_input": "2021-07-12T18:55:50.136379Z",
     "iopub.status.busy": "2021-07-12T18:55:50.136077Z",
     "iopub.status.idle": "2021-07-12T18:55:50.297542Z",
     "shell.execute_reply": "2021-07-12T18:55:50.296406Z",
     "shell.execute_reply.started": "2021-07-12T18:55:50.136351Z"
    },
    "papermill": {
     "duration": 0.191971,
     "end_time": "2021-06-22T09:27:00.850393",
     "exception": false,
     "start_time": "2021-06-22T09:27:00.658422",
     "status": "completed"
    },
    "tags": []
   },
   "outputs": [
    {
     "data": {
      "text/plain": [
       "show_id         0\n",
       "type            0\n",
       "title           0\n",
       "director        0\n",
       "cast            0\n",
       "country         0\n",
       "date_added      0\n",
       "release_year    0\n",
       "rating          0\n",
       "budget          0\n",
       "revenue         0\n",
       "duration        0\n",
       "listed_in       0\n",
       "description     0\n",
       "dtype: int64"
      ]
     },
     "execution_count": 9,
     "metadata": {},
     "output_type": "execute_result"
    }
   ],
   "source": [
    "df = df.dropna( how='any',subset=['cast', 'director','duration'])\n",
    "    \n",
    "df.isnull().sum()\n"
   ]
  },
  {
   "cell_type": "markdown",
   "metadata": {
    "papermill": {
     "duration": 0.042777,
     "end_time": "2021-06-22T09:27:02.637413",
     "exception": false,
     "start_time": "2021-06-22T09:27:02.594636",
     "status": "completed"
    },
    "tags": []
   },
   "source": [
    "- All the missing values in the dataset have either been removed or filled. There are no missing values left."
   ]
  },
  {
   "cell_type": "code",
   "execution_count": 10,
   "metadata": {
    "execution": {
     "iopub.execute_input": "2021-07-12T18:55:51.421883Z",
     "iopub.status.busy": "2021-07-12T18:55:51.421514Z",
     "iopub.status.idle": "2021-07-12T18:55:51.445878Z",
     "shell.execute_reply": "2021-07-12T18:55:51.444762Z",
     "shell.execute_reply.started": "2021-07-12T18:55:51.421834Z"
    },
    "papermill": {
     "duration": 0.070949,
     "end_time": "2021-06-22T09:27:02.751676",
     "exception": false,
     "start_time": "2021-06-22T09:27:02.680727",
     "status": "completed"
    },
    "tags": []
   },
   "outputs": [
    {
     "data": {
      "text/plain": [
       "0"
      ]
     },
     "execution_count": 10,
     "metadata": {},
     "output_type": "execute_result"
    }
   ],
   "source": [
    "df.duplicated().sum()"
   ]
  },
  {
   "cell_type": "markdown",
   "metadata": {
    "papermill": {
     "duration": 0.04378,
     "end_time": "2021-06-22T09:27:02.838957",
     "exception": false,
     "start_time": "2021-06-22T09:27:02.795177",
     "status": "completed"
    },
    "tags": []
   },
   "source": [
    "- dataset has 0 duplicated values."
   ]
  },
  {
   "cell_type": "markdown",
   "metadata": {
    "papermill": {
     "duration": 0.043294,
     "end_time": "2021-06-22T09:27:02.925967",
     "exception": false,
     "start_time": "2021-06-22T09:27:02.882673",
     "status": "completed"
    },
    "tags": []
   },
   "source": [
    "### --> Cleaning the data"
   ]
  },
  {
   "cell_type": "markdown",
   "metadata": {
    "papermill": {
     "duration": 0.046031,
     "end_time": "2021-06-22T09:27:03.015898",
     "exception": false,
     "start_time": "2021-06-22T09:27:02.969867",
     "status": "completed"
    },
    "tags": []
   },
   "source": [
    "Adding some new columns:\n",
    "- listed_in - Genre\n",
    "* Year Added - year_add\n",
    "* Month Added - month_add\n",
    "* Princial Country - country_main "
   ]
  },
  {
   "cell_type": "code",
   "execution_count": 11,
   "metadata": {
    "execution": {
     "iopub.execute_input": "2021-07-12T18:55:51.448427Z",
     "iopub.status.busy": "2021-07-12T18:55:51.448074Z",
     "iopub.status.idle": "2021-07-12T18:55:51.462170Z",
     "shell.execute_reply": "2021-07-12T18:55:51.461403Z",
     "shell.execute_reply.started": "2021-07-12T18:55:51.448397Z"
    }
   },
   "outputs": [
    {
     "data": {
      "text/plain": [
       "2              Crime TV Shows\n",
       "5                   TV Dramas\n",
       "6    Children & Family Movies\n",
       "7                      Dramas\n",
       "8            British TV Shows\n",
       "Name: Genre, dtype: object"
      ]
     },
     "execution_count": 11,
     "metadata": {},
     "output_type": "execute_result"
    }
   ],
   "source": [
    "#Rename the 'listed_in' column as 'Genre' for easy understanding\n",
    "df = df.rename(columns={\"listed_in\":\"Genre\"})\n",
    "df['Genre'] = df['Genre'].apply(lambda x: x.split(\",\")[0])\n",
    "df['Genre'].head()"
   ]
  },
  {
   "cell_type": "code",
   "execution_count": 12,
   "metadata": {
    "execution": {
     "iopub.execute_input": "2021-07-12T18:55:51.463650Z",
     "iopub.status.busy": "2021-07-12T18:55:51.463252Z",
     "iopub.status.idle": "2021-07-12T18:55:51.482476Z",
     "shell.execute_reply": "2021-07-12T18:55:51.481324Z",
     "shell.execute_reply.started": "2021-07-12T18:55:51.463621Z"
    },
    "papermill": {
     "duration": 0.060955,
     "end_time": "2021-06-22T09:27:03.120568",
     "exception": false,
     "start_time": "2021-06-22T09:27:03.059613",
     "status": "completed"
    },
    "tags": []
   },
   "outputs": [
    {
     "data": {
      "text/plain": [
       "2    2021\n",
       "5    2021\n",
       "6    2021\n",
       "7    2021\n",
       "8    2021\n",
       "Name: year_add, dtype: object"
      ]
     },
     "execution_count": 12,
     "metadata": {},
     "output_type": "execute_result"
    }
   ],
   "source": [
    "df['year_add'] = df['date_added'].apply(lambda x: x.split(\" \")[-1])\n",
    "df['year_add'].head()"
   ]
  },
  {
   "cell_type": "code",
   "execution_count": 13,
   "metadata": {
    "execution": {
     "iopub.execute_input": "2021-07-12T18:55:51.484117Z",
     "iopub.status.busy": "2021-07-12T18:55:51.483762Z",
     "iopub.status.idle": "2021-07-12T18:55:51.504501Z",
     "shell.execute_reply": "2021-07-12T18:55:51.503659Z",
     "shell.execute_reply.started": "2021-07-12T18:55:51.484084Z"
    },
    "papermill": {
     "duration": 0.060476,
     "end_time": "2021-06-22T09:27:03.225275",
     "exception": false,
     "start_time": "2021-06-22T09:27:03.164799",
     "status": "completed"
    },
    "tags": []
   },
   "outputs": [
    {
     "data": {
      "text/plain": [
       "2    September\n",
       "5    September\n",
       "6    September\n",
       "7    September\n",
       "8    September\n",
       "Name: month_add, dtype: object"
      ]
     },
     "execution_count": 13,
     "metadata": {},
     "output_type": "execute_result"
    }
   ],
   "source": [
    "df['month_add'] = df['date_added'].apply(lambda x: x.split(\" \")[0])\n",
    "df['month_add'].head()"
   ]
  },
  {
   "cell_type": "code",
   "execution_count": 14,
   "metadata": {
    "execution": {
     "iopub.execute_input": "2021-07-12T18:55:51.505957Z",
     "iopub.status.busy": "2021-07-12T18:55:51.505533Z",
     "iopub.status.idle": "2021-07-12T18:55:51.524557Z",
     "shell.execute_reply": "2021-07-12T18:55:51.523585Z",
     "shell.execute_reply.started": "2021-07-12T18:55:51.505923Z"
    },
    "papermill": {
     "duration": 0.061707,
     "end_time": "2021-06-22T09:27:03.437589",
     "exception": false,
     "start_time": "2021-06-22T09:27:03.375882",
     "status": "completed"
    },
    "tags": []
   },
   "outputs": [
    {
     "data": {
      "text/plain": [
       "2     United States\n",
       "5     United States\n",
       "6     United States\n",
       "7     United States\n",
       "8    United Kingdom\n",
       "Name: country_main, dtype: object"
      ]
     },
     "execution_count": 14,
     "metadata": {},
     "output_type": "execute_result"
    }
   ],
   "source": [
    "df['country_main'] = df['country'].apply(lambda x: x.split(\",\")[0])\n",
    "df['country_main'].head()"
   ]
  },
  {
   "cell_type": "code",
   "execution_count": 15,
   "metadata": {
    "execution": {
     "iopub.execute_input": "2021-07-12T18:55:51.526293Z",
     "iopub.status.busy": "2021-07-12T18:55:51.525995Z",
     "iopub.status.idle": "2021-07-12T18:55:51.542757Z",
     "shell.execute_reply": "2021-07-12T18:55:51.541678Z",
     "shell.execute_reply.started": "2021-07-12T18:55:51.526264Z"
    }
   },
   "outputs": [
    {
     "data": {
      "text/plain": [
       "Movie      5519\n",
       "TV Show     178\n",
       "Name: type, dtype: int64"
      ]
     },
     "execution_count": 15,
     "metadata": {},
     "output_type": "execute_result"
    }
   ],
   "source": [
    "df['type'].value_counts()"
   ]
  },
  {
   "cell_type": "code",
   "execution_count": 16,
   "metadata": {
    "execution": {
     "iopub.execute_input": "2021-07-12T18:55:51.544959Z",
     "iopub.status.busy": "2021-07-12T18:55:51.544400Z",
     "iopub.status.idle": "2021-07-12T18:55:51.560893Z",
     "shell.execute_reply": "2021-07-12T18:55:51.559872Z",
     "shell.execute_reply.started": "2021-07-12T18:55:51.544924Z"
    }
   },
   "outputs": [
    {
     "data": {
      "text/plain": [
       "TV-MA            1939\n",
       "TV-14            1329\n",
       "R                 789\n",
       "PG-13             477\n",
       "TV-PG             456\n",
       "PG                279\n",
       "TV-Y7             123\n",
       "TV-Y              102\n",
       "TV-G               96\n",
       "NR                 58\n",
       "G                  40\n",
       "UR                  3\n",
       "TV-Y7-FV            3\n",
       "NC-17               2\n",
       "United States       1\n",
       "Name: rating, dtype: int64"
      ]
     },
     "execution_count": 16,
     "metadata": {},
     "output_type": "execute_result"
    }
   ],
   "source": [
    "df['rating'].value_counts()"
   ]
  },
  {
   "cell_type": "markdown",
   "metadata": {
    "papermill": {
     "duration": 0.044206,
     "end_time": "2021-06-22T09:27:03.528288",
     "exception": false,
     "start_time": "2021-06-22T09:27:03.484082",
     "status": "completed"
    },
    "tags": []
   },
   "source": [
    "-- Making two new dataframes, one with movies collection and other with TV shows collection:\n",
    "* movie_df\n",
    "* tv_df"
   ]
  },
  {
   "cell_type": "code",
   "execution_count": 17,
   "metadata": {
    "execution": {
     "iopub.execute_input": "2021-07-12T18:55:51.562763Z",
     "iopub.status.busy": "2021-07-12T18:55:51.562442Z",
     "iopub.status.idle": "2021-07-12T18:55:51.577219Z",
     "shell.execute_reply": "2021-07-12T18:55:51.576044Z",
     "shell.execute_reply.started": "2021-07-12T18:55:51.562733Z"
    },
    "papermill": {
     "duration": 0.060657,
     "end_time": "2021-06-22T09:27:03.633611",
     "exception": false,
     "start_time": "2021-06-22T09:27:03.572954",
     "status": "completed"
    },
    "tags": []
   },
   "outputs": [],
   "source": [
    "movie_df = df[df['type'] == 'Movie']\n",
    "tv_df = df[df['type'] == 'TV Show']"
   ]
  },
  {
   "cell_type": "code",
   "execution_count": 18,
   "metadata": {
    "execution": {
     "iopub.execute_input": "2021-07-12T18:55:51.579074Z",
     "iopub.status.busy": "2021-07-12T18:55:51.578672Z",
     "iopub.status.idle": "2021-07-12T18:55:51.605442Z",
     "shell.execute_reply": "2021-07-12T18:55:51.604651Z",
     "shell.execute_reply.started": "2021-07-12T18:55:51.579044Z"
    },
    "papermill": {
     "duration": 0.06977,
     "end_time": "2021-06-22T09:27:03.748362",
     "exception": false,
     "start_time": "2021-06-22T09:27:03.678592",
     "status": "completed"
    },
    "tags": []
   },
   "outputs": [
    {
     "data": {
      "text/html": [
       "<div>\n",
       "<style scoped>\n",
       "    .dataframe tbody tr th:only-of-type {\n",
       "        vertical-align: middle;\n",
       "    }\n",
       "\n",
       "    .dataframe tbody tr th {\n",
       "        vertical-align: top;\n",
       "    }\n",
       "\n",
       "    .dataframe thead th {\n",
       "        text-align: right;\n",
       "    }\n",
       "</style>\n",
       "<table border=\"1\" class=\"dataframe\">\n",
       "  <thead>\n",
       "    <tr style=\"text-align: right;\">\n",
       "      <th></th>\n",
       "      <th>show_id</th>\n",
       "      <th>type</th>\n",
       "      <th>title</th>\n",
       "      <th>director</th>\n",
       "      <th>cast</th>\n",
       "      <th>country</th>\n",
       "      <th>date_added</th>\n",
       "      <th>release_year</th>\n",
       "      <th>rating</th>\n",
       "      <th>budget</th>\n",
       "      <th>revenue</th>\n",
       "      <th>duration</th>\n",
       "      <th>Genre</th>\n",
       "      <th>description</th>\n",
       "      <th>year_add</th>\n",
       "      <th>month_add</th>\n",
       "      <th>country_main</th>\n",
       "    </tr>\n",
       "  </thead>\n",
       "  <tbody>\n",
       "    <tr>\n",
       "      <th>6</th>\n",
       "      <td>s7</td>\n",
       "      <td>Movie</td>\n",
       "      <td>My Little Pony: A New Generation</td>\n",
       "      <td>Robert Cullen, José Luis Ucha</td>\n",
       "      <td>Vanessa Hudgens, Kimiko Glenn, James Marsden, ...</td>\n",
       "      <td>United States</td>\n",
       "      <td>September 24, 2021</td>\n",
       "      <td>2021.0</td>\n",
       "      <td>PG</td>\n",
       "      <td>58000000</td>\n",
       "      <td>0.0</td>\n",
       "      <td>91 min</td>\n",
       "      <td>Children &amp; Family Movies</td>\n",
       "      <td>Equestria's divided. But a bright-eyed hero be...</td>\n",
       "      <td>2021</td>\n",
       "      <td>September</td>\n",
       "      <td>United States</td>\n",
       "    </tr>\n",
       "    <tr>\n",
       "      <th>7</th>\n",
       "      <td>s8</td>\n",
       "      <td>Movie</td>\n",
       "      <td>Sankofa</td>\n",
       "      <td>Haile Gerima</td>\n",
       "      <td>Kofi Ghanaba, Oyafunmike Ogunlano, Alexandra D...</td>\n",
       "      <td>United States, Ghana, Burkina Faso, United Kin...</td>\n",
       "      <td>September 24, 2021</td>\n",
       "      <td>1993.0</td>\n",
       "      <td>TV-MA</td>\n",
       "      <td>0</td>\n",
       "      <td>0.0</td>\n",
       "      <td>125 min</td>\n",
       "      <td>Dramas</td>\n",
       "      <td>On a photo shoot in Ghana, an American model s...</td>\n",
       "      <td>2021</td>\n",
       "      <td>September</td>\n",
       "      <td>United States</td>\n",
       "    </tr>\n",
       "    <tr>\n",
       "      <th>9</th>\n",
       "      <td>s10</td>\n",
       "      <td>Movie</td>\n",
       "      <td>The Starling</td>\n",
       "      <td>Theodore Melfi</td>\n",
       "      <td>Melissa McCarthy, Chris O'Dowd, Kevin Kline, T...</td>\n",
       "      <td>United States</td>\n",
       "      <td>September 24, 2021</td>\n",
       "      <td>2021.0</td>\n",
       "      <td>PG-13</td>\n",
       "      <td>58000000</td>\n",
       "      <td>352194034.0</td>\n",
       "      <td>104 min</td>\n",
       "      <td>Comedies</td>\n",
       "      <td>A woman adjusting to life after a loss contend...</td>\n",
       "      <td>2021</td>\n",
       "      <td>September</td>\n",
       "      <td>United States</td>\n",
       "    </tr>\n",
       "    <tr>\n",
       "      <th>12</th>\n",
       "      <td>s13</td>\n",
       "      <td>Movie</td>\n",
       "      <td>Je Suis Karl</td>\n",
       "      <td>Christian Schwochow</td>\n",
       "      <td>Luna Wedler, Jannis Niewöhner, Milan Peschel, ...</td>\n",
       "      <td>Germany, Czech Republic</td>\n",
       "      <td>September 23, 2021</td>\n",
       "      <td>2021.0</td>\n",
       "      <td>TV-MA</td>\n",
       "      <td>0</td>\n",
       "      <td>11348324.0</td>\n",
       "      <td>127 min</td>\n",
       "      <td>Dramas</td>\n",
       "      <td>After most of her family is murdered in a terr...</td>\n",
       "      <td>2021</td>\n",
       "      <td>September</td>\n",
       "      <td>Germany</td>\n",
       "    </tr>\n",
       "    <tr>\n",
       "      <th>13</th>\n",
       "      <td>s14</td>\n",
       "      <td>Movie</td>\n",
       "      <td>Confessions of an Invisible Girl</td>\n",
       "      <td>Bruno Garotti</td>\n",
       "      <td>Klara Castanho, Lucca Picon, Júlia Gomes, Marc...</td>\n",
       "      <td>United States</td>\n",
       "      <td>September 22, 2021</td>\n",
       "      <td>2021.0</td>\n",
       "      <td>TV-PG</td>\n",
       "      <td>44000000</td>\n",
       "      <td>13681765.0</td>\n",
       "      <td>91 min</td>\n",
       "      <td>Children &amp; Family Movies</td>\n",
       "      <td>When the clever but socially-awkward Tetê join...</td>\n",
       "      <td>2021</td>\n",
       "      <td>September</td>\n",
       "      <td>United States</td>\n",
       "    </tr>\n",
       "  </tbody>\n",
       "</table>\n",
       "</div>"
      ],
      "text/plain": [
       "   show_id   type                             title  \\\n",
       "6       s7  Movie  My Little Pony: A New Generation   \n",
       "7       s8  Movie                           Sankofa   \n",
       "9      s10  Movie                      The Starling   \n",
       "12     s13  Movie                      Je Suis Karl   \n",
       "13     s14  Movie  Confessions of an Invisible Girl   \n",
       "\n",
       "                         director  \\\n",
       "6   Robert Cullen, José Luis Ucha   \n",
       "7                    Haile Gerima   \n",
       "9                  Theodore Melfi   \n",
       "12            Christian Schwochow   \n",
       "13                  Bruno Garotti   \n",
       "\n",
       "                                                 cast  \\\n",
       "6   Vanessa Hudgens, Kimiko Glenn, James Marsden, ...   \n",
       "7   Kofi Ghanaba, Oyafunmike Ogunlano, Alexandra D...   \n",
       "9   Melissa McCarthy, Chris O'Dowd, Kevin Kline, T...   \n",
       "12  Luna Wedler, Jannis Niewöhner, Milan Peschel, ...   \n",
       "13  Klara Castanho, Lucca Picon, Júlia Gomes, Marc...   \n",
       "\n",
       "                                              country          date_added  \\\n",
       "6                                       United States  September 24, 2021   \n",
       "7   United States, Ghana, Burkina Faso, United Kin...  September 24, 2021   \n",
       "9                                       United States  September 24, 2021   \n",
       "12                            Germany, Czech Republic  September 23, 2021   \n",
       "13                                      United States  September 22, 2021   \n",
       "\n",
       "    release_year rating    budget      revenue duration  \\\n",
       "6         2021.0     PG  58000000          0.0   91 min   \n",
       "7         1993.0  TV-MA         0          0.0  125 min   \n",
       "9         2021.0  PG-13  58000000  352194034.0  104 min   \n",
       "12        2021.0  TV-MA         0   11348324.0  127 min   \n",
       "13        2021.0  TV-PG  44000000   13681765.0   91 min   \n",
       "\n",
       "                       Genre  \\\n",
       "6   Children & Family Movies   \n",
       "7                     Dramas   \n",
       "9                   Comedies   \n",
       "12                    Dramas   \n",
       "13  Children & Family Movies   \n",
       "\n",
       "                                          description year_add  month_add  \\\n",
       "6   Equestria's divided. But a bright-eyed hero be...     2021  September   \n",
       "7   On a photo shoot in Ghana, an American model s...     2021  September   \n",
       "9   A woman adjusting to life after a loss contend...     2021  September   \n",
       "12  After most of her family is murdered in a terr...     2021  September   \n",
       "13  When the clever but socially-awkward Tetê join...     2021  September   \n",
       "\n",
       "     country_main  \n",
       "6   United States  \n",
       "7   United States  \n",
       "9   United States  \n",
       "12        Germany  \n",
       "13  United States  "
      ]
     },
     "execution_count": 18,
     "metadata": {},
     "output_type": "execute_result"
    }
   ],
   "source": [
    "movie_df.head()"
   ]
  },
  {
   "cell_type": "markdown",
   "metadata": {},
   "source": [
    "### Handling Outliers"
   ]
  },
  {
   "cell_type": "code",
   "execution_count": 19,
   "metadata": {},
   "outputs": [
    {
     "data": {
      "text/plain": [
       "<AxesSubplot:xlabel='revenue'>"
      ]
     },
     "execution_count": 19,
     "metadata": {},
     "output_type": "execute_result"
    },
    {
     "data": {
      "image/png": "[encoded data removed]",
      "text/plain": [
       "<Figure size 432x288 with 1 Axes>"
      ]
     },
     "metadata": {
      "needs_background": "light"
     },
     "output_type": "display_data"
    }
   ],
   "source": [
    "import seaborn as sns\n",
    "import matplotlib.pyplot as plt\n",
    "\n",
    "sns.boxplot(x='revenue', data=df)"
   ]
  },
  {
   "cell_type": "code",
   "execution_count": 20,
   "metadata": {},
   "outputs": [
    {
     "data": {
      "text/plain": [
       "<AxesSubplot:xlabel='budget'>"
      ]
     },
     "execution_count": 20,
     "metadata": {},
     "output_type": "execute_result"
    },
    {
     "data": {
      "image/png": "[encoded data removed]",
      "text/plain": [
       "<Figure size 432x288 with 1 Axes>"
      ]
     },
     "metadata": {
      "needs_background": "light"
     },
     "output_type": "display_data"
    }
   ],
   "source": [
    "import seaborn as sns\n",
    "import matplotlib.pyplot as plt\n",
    "sns.boxplot(x='budget', data=df)"
   ]
  },
  {
   "cell_type": "markdown",
   "metadata": {},
   "source": [
    "## 3. Exploratory Data Analysis"
   ]
  },
  {
   "cell_type": "markdown",
   "metadata": {},
   "source": [
    "### --> Number of Movies vs TV Shows"
   ]
  },
  {
   "cell_type": "code",
   "execution_count": 21,
   "metadata": {
    "execution": {
     "iopub.execute_input": "2021-07-12T18:55:51.607026Z",
     "iopub.status.busy": "2021-07-12T18:55:51.606683Z",
     "iopub.status.idle": "2021-07-12T18:55:51.781802Z",
     "shell.execute_reply": "2021-07-12T18:55:51.780802Z",
     "shell.execute_reply.started": "2021-07-12T18:55:51.606994Z"
    }
   },
   "outputs": [
    {
     "data": {
      "text/plain": [
       "<AxesSubplot:xlabel='type', ylabel='count'>"
      ]
     },
     "execution_count": 21,
     "metadata": {},
     "output_type": "execute_result"
    },
    {
     "data": {
      "image/png": "[encoded data removed]",
      "text/plain": [
       "<Figure size 432x288 with 1 Axes>"
      ]
     },
     "metadata": {},
     "output_type": "display_data"
    }
   ],
   "source": [
    "sns.set(style=\"darkgrid\")\n",
    "sns.countplot(x=\"type\", data= df, palette=\"Set2\")"
   ]
  },
  {
   "cell_type": "markdown",
   "metadata": {},
   "source": [
    "- Movies/TV shows were mostly released after 2010"
   ]
  },
  {
   "cell_type": "markdown",
   "metadata": {},
   "source": [
    "### --> Ratings analysis"
   ]
  },
  {
   "cell_type": "code",
   "execution_count": 22,
   "metadata": {
    "execution": {
     "iopub.execute_input": "2021-07-12T18:55:50.136379Z",
     "iopub.status.busy": "2021-07-12T18:55:50.136077Z",
     "iopub.status.idle": "2021-07-12T18:55:50.297542Z",
     "shell.execute_reply": "2021-07-12T18:55:50.296406Z",
     "shell.execute_reply.started": "2021-07-12T18:55:50.136351Z"
    },
    "papermill": {
     "duration": 0.191971,
     "end_time": "2021-06-22T09:27:00.850393",
     "exception": false,
     "start_time": "2021-06-22T09:27:00.658422",
     "status": "completed"
    },
    "tags": []
   },
   "outputs": [
    {
     "data": {
      "image/png": "[encoded data removed]",
      "text/plain": [
       "<Figure size 864x720 with 1 Axes>"
      ]
     },
     "metadata": {},
     "output_type": "display_data"
    }
   ],
   "source": [
    "plt.figure(figsize=(12,10))\n",
    "sns.set(style=\"darkgrid\")\n",
    "ax = sns.countplot(x=\"rating\", data=df, palette=\"Set2\")"
   ]
  },
  {
   "cell_type": "markdown",
   "metadata": {},
   "source": [
    "- Movies/TV shows are mostly TV-MA rated"
   ]
  },
  {
   "cell_type": "markdown",
   "metadata": {},
   "source": [
    "### --> Movies Ratings analysis"
   ]
  },
  {
   "cell_type": "code",
   "execution_count": 23,
   "metadata": {
    "execution": {
     "iopub.execute_input": "2021-07-12T18:55:51.783445Z",
     "iopub.status.busy": "2021-07-12T18:55:51.783139Z",
     "iopub.status.idle": "2021-07-12T18:55:52.164758Z",
     "shell.execute_reply": "2021-07-12T18:55:52.163850Z",
     "shell.execute_reply.started": "2021-07-12T18:55:51.783414Z"
    }
   },
   "outputs": [
    {
     "data": {
      "text/plain": [
       "<AxesSubplot:xlabel='rating', ylabel='count'>"
      ]
     },
     "execution_count": 23,
     "metadata": {},
     "output_type": "execute_result"
    },
    {
     "data": {
      "image/png": "[encoded data removed]",
      "text/plain": [
       "<Figure size 864x720 with 1 Axes>"
      ]
     },
     "metadata": {},
     "output_type": "display_data"
    }
   ],
   "source": [
    "#MOVIES RATINGS\n",
    "plt.figure(figsize=(12,10))\n",
    "sns.set(style=\"darkgrid\")\n",
    "sns.countplot(x=\"rating\", data= movie_df, palette=\"Set2\", order=movie_df['rating'].value_counts().index[0:15])"
   ]
  },
  {
   "cell_type": "markdown",
   "metadata": {},
   "source": [
    "### -->  TV Shows Ratings analysis"
   ]
  },
  {
   "cell_type": "code",
   "execution_count": 24,
   "metadata": {
    "execution": {
     "iopub.execute_input": "2021-07-12T18:55:52.166536Z",
     "iopub.status.busy": "2021-07-12T18:55:52.166068Z",
     "iopub.status.idle": "2021-07-12T18:55:52.427010Z",
     "shell.execute_reply": "2021-07-12T18:55:52.425962Z",
     "shell.execute_reply.started": "2021-07-12T18:55:52.166487Z"
    }
   },
   "outputs": [
    {
     "data": {
      "text/plain": [
       "<AxesSubplot:xlabel='rating', ylabel='count'>"
      ]
     },
     "execution_count": 24,
     "metadata": {},
     "output_type": "execute_result"
    },
    {
     "data": {
      "image/png": "[encoded data removed]",
      "text/plain": [
       "<Figure size 864x720 with 1 Axes>"
      ]
     },
     "metadata": {},
     "output_type": "display_data"
    }
   ],
   "source": [
    "# TV SHOWS RATINGS\n",
    "plt.figure(figsize=(12,10))\n",
    "sns.set(style=\"darkgrid\")\n",
    "sns.countplot(x=\"rating\", data=tv_df, palette=\"Accent\", order=tv_df['rating'].value_counts().index[0:15])"
   ]
  },
  {
   "cell_type": "markdown",
   "metadata": {},
   "source": [
    "### -> Period of years movies/tv shows were released in"
   ]
  },
  {
   "cell_type": "code",
   "execution_count": 25,
   "metadata": {
    "execution": {
     "iopub.execute_input": "2021-07-12T18:55:50.136379Z",
     "iopub.status.busy": "2021-07-12T18:55:50.136077Z",
     "iopub.status.idle": "2021-07-12T18:55:50.297542Z",
     "shell.execute_reply": "2021-07-12T18:55:50.296406Z",
     "shell.execute_reply.started": "2021-07-12T18:55:50.136351Z"
    },
    "papermill": {
     "duration": 0.191971,
     "end_time": "2021-06-22T09:27:00.850393",
     "exception": false,
     "start_time": "2021-06-22T09:27:00.658422",
     "status": "completed"
    },
    "tags": []
   },
   "outputs": [
    {
     "data": {
      "image/png": "[encoded data removed]",
      "text/plain": [
       "<Figure size 432x288 with 1 Axes>"
      ]
     },
     "metadata": {},
     "output_type": "display_data"
    }
   ],
   "source": [
    "import seaborn as sns\n",
    "sns.histplot(x='release_year', data=df, )\n",
    "sns.set(rc={'figure.figsize':(20,27)})\n",
    "plt.show()"
   ]
  },
  {
   "cell_type": "markdown",
   "metadata": {},
   "source": [
    "- There are more Movies on Netflix than TV shows."
   ]
  },
  {
   "cell_type": "markdown",
   "metadata": {},
   "source": [
    "### --> Yearly Analysis of content"
   ]
  },
  {
   "cell_type": "code",
   "execution_count": 26,
   "metadata": {
    "execution": {
     "iopub.execute_input": "2021-07-12T18:55:52.428776Z",
     "iopub.status.busy": "2021-07-12T18:55:52.428413Z",
     "iopub.status.idle": "2021-07-12T18:55:52.910637Z",
     "shell.execute_reply": "2021-07-12T18:55:52.909436Z",
     "shell.execute_reply.started": "2021-07-12T18:55:52.428742Z"
    }
   },
   "outputs": [
    {
     "data": {
      "text/plain": [
       "<AxesSubplot:xlabel='count', ylabel='release_year'>"
      ]
     },
     "execution_count": 26,
     "metadata": {},
     "output_type": "execute_result"
    },
    {
     "data": {
      "image/png": "[encoded data removed]",
      "text/plain": [
       "<Figure size 864x720 with 1 Axes>"
      ]
     },
     "metadata": {},
     "output_type": "display_data"
    }
   ],
   "source": [
    "plt.figure(figsize=(12,10))\n",
    "sns.set(style=\"darkgrid\")\n",
    "sns.countplot(y=\"release_year\", data= df, palette=\"cool\", order= df['release_year'].value_counts().index[0:15],hue=df['type'])"
   ]
  },
  {
   "cell_type": "markdown",
   "metadata": {},
   "source": [
    "### -->Understanding what content is available in different countries"
   ]
  },
  {
   "cell_type": "code",
   "execution_count": 29,
   "metadata": {
    "execution": {
     "iopub.execute_input": "2021-07-12T18:55:55.405138Z",
     "iopub.status.busy": "2021-07-12T18:55:55.404823Z",
     "iopub.status.idle": "2021-07-12T18:55:55.410129Z",
     "shell.execute_reply": "2021-07-12T18:55:55.409215Z",
     "shell.execute_reply.started": "2021-07-12T18:55:55.405109Z"
    }
   },
   "outputs": [],
   "source": [
    "# Different Genres from Countries\n",
    "columns=['Genre','country_main']\n",
    "gen_country = df [columns]"
   ]
  },
  {
   "cell_type": "code",
   "execution_count": 30,
   "metadata": {
    "execution": {
     "iopub.execute_input": "2021-07-12T18:55:55.411533Z",
     "iopub.status.busy": "2021-07-12T18:55:55.411264Z",
     "iopub.status.idle": "2021-07-12T18:55:55.433586Z",
     "shell.execute_reply": "2021-07-12T18:55:55.432455Z",
     "shell.execute_reply.started": "2021-07-12T18:55:55.411507Z"
    }
   },
   "outputs": [
    {
     "data": {
      "text/html": [
       "<div>\n",
       "<style scoped>\n",
       "    .dataframe tbody tr th:only-of-type {\n",
       "        vertical-align: middle;\n",
       "    }\n",
       "\n",
       "    .dataframe tbody tr th {\n",
       "        vertical-align: top;\n",
       "    }\n",
       "\n",
       "    .dataframe thead th {\n",
       "        text-align: right;\n",
       "    }\n",
       "</style>\n",
       "<table border=\"1\" class=\"dataframe\">\n",
       "  <thead>\n",
       "    <tr style=\"text-align: right;\">\n",
       "      <th></th>\n",
       "      <th>Genre</th>\n",
       "      <th>country_main</th>\n",
       "    </tr>\n",
       "  </thead>\n",
       "  <tbody>\n",
       "    <tr>\n",
       "      <th>2</th>\n",
       "      <td>Crime TV Shows</td>\n",
       "      <td>United States</td>\n",
       "    </tr>\n",
       "    <tr>\n",
       "      <th>5</th>\n",
       "      <td>TV Dramas</td>\n",
       "      <td>United States</td>\n",
       "    </tr>\n",
       "    <tr>\n",
       "      <th>6</th>\n",
       "      <td>Children &amp; Family Movies</td>\n",
       "      <td>United States</td>\n",
       "    </tr>\n",
       "    <tr>\n",
       "      <th>7</th>\n",
       "      <td>Dramas</td>\n",
       "      <td>United States</td>\n",
       "    </tr>\n",
       "    <tr>\n",
       "      <th>8</th>\n",
       "      <td>British TV Shows</td>\n",
       "      <td>United Kingdom</td>\n",
       "    </tr>\n",
       "  </tbody>\n",
       "</table>\n",
       "</div>"
      ],
      "text/plain": [
       "                      Genre    country_main\n",
       "2            Crime TV Shows   United States\n",
       "5                 TV Dramas   United States\n",
       "6  Children & Family Movies   United States\n",
       "7                    Dramas   United States\n",
       "8          British TV Shows  United Kingdom"
      ]
     },
     "execution_count": 30,
     "metadata": {},
     "output_type": "execute_result"
    }
   ],
   "source": [
    "gen_country.head()"
   ]
  },
  {
   "cell_type": "code",
   "execution_count": 31,
   "metadata": {
    "execution": {
     "iopub.execute_input": "2021-07-12T18:55:55.435455Z",
     "iopub.status.busy": "2021-07-12T18:55:55.434983Z",
     "iopub.status.idle": "2021-07-12T18:55:55.454672Z",
     "shell.execute_reply": "2021-07-12T18:55:55.453793Z",
     "shell.execute_reply.started": "2021-07-12T18:55:55.435411Z"
    }
   },
   "outputs": [
    {
     "data": {
      "text/plain": [
       "Dramas                          1586\n",
       "Comedies                        1184\n",
       "Action & Adventure               848\n",
       "Children & Family Movies         548\n",
       "Documentaries                    397\n",
       "Stand-Up Comedy                  309\n",
       "Horror Movies                    274\n",
       "International Movies             122\n",
       "Classic Movies                    73\n",
       "Thrillers                         65\n",
       "International TV Shows            59\n",
       "Crime TV Shows                    37\n",
       "Movies                            27\n",
       "British TV Shows                  21\n",
       "Independent Movies                20\n",
       "Anime Features                    19\n",
       "Music & Musicals                  18\n",
       "Sci-Fi & Fantasy                  13\n",
       "Cult Movies                       12\n",
       "Anime Series                      11\n",
       "Kids' TV                          11\n",
       "Docuseries                        10\n",
       "TV Shows                           9\n",
       "Stand-Up Comedy & Talk Shows       8\n",
       "Romantic Movies                    3\n",
       "TV Comedies                        3\n",
       "TV Action & Adventure              2\n",
       "Classic & Cult TV                  2\n",
       "TV Dramas                          2\n",
       "Reality TV                         1\n",
       "Romantic TV Shows                  1\n",
       "TV Horror                          1\n",
       "LGBTQ Movies                       1\n",
       "Name: Genre, dtype: int64"
      ]
     },
     "execution_count": 31,
     "metadata": {},
     "output_type": "execute_result"
    }
   ],
   "source": [
    "gen_country['Genre'].value_counts()"
   ]
  },
  {
   "cell_type": "code",
   "execution_count": 32,
   "metadata": {
    "execution": {
     "iopub.execute_input": "2021-07-12T18:55:55.456609Z",
     "iopub.status.busy": "2021-07-12T18:55:55.456144Z",
     "iopub.status.idle": "2021-07-12T18:55:55.474713Z",
     "shell.execute_reply": "2021-07-12T18:55:55.473590Z",
     "shell.execute_reply.started": "2021-07-12T18:55:55.456568Z"
    }
   },
   "outputs": [
    {
     "data": {
      "text/plain": [
       "[1586,\n",
       " 1184,\n",
       " 848,\n",
       " 548,\n",
       " 397,\n",
       " 309,\n",
       " 274,\n",
       " 122,\n",
       " 73,\n",
       " 65,\n",
       " 59,\n",
       " 37,\n",
       " 27,\n",
       " 21,\n",
       " 20,\n",
       " 19,\n",
       " 18,\n",
       " 13,\n",
       " 12,\n",
       " 11,\n",
       " 11,\n",
       " 10,\n",
       " 9,\n",
       " 8,\n",
       " 3,\n",
       " 3,\n",
       " 2,\n",
       " 2,\n",
       " 2,\n",
       " 1,\n",
       " 1,\n",
       " 1,\n",
       " 1]"
      ]
     },
     "execution_count": 32,
     "metadata": {},
     "output_type": "execute_result"
    }
   ],
   "source": [
    "size = gen_country['Genre'].value_counts().tolist()\n",
    "size"
   ]
  },
  {
   "cell_type": "code",
   "execution_count": 33,
   "metadata": {
    "execution": {
     "iopub.execute_input": "2021-07-12T18:55:55.476872Z",
     "iopub.status.busy": "2021-07-12T18:55:55.476399Z",
     "iopub.status.idle": "2021-07-12T18:55:56.188713Z",
     "shell.execute_reply": "2021-07-12T18:55:56.187307Z",
     "shell.execute_reply.started": "2021-07-12T18:55:55.476768Z"
    }
   },
   "outputs": [
    {
     "data": {
      "image/png": "[encoded data removed]",
      "text/plain": [
       "<Figure size 2160x1080 with 1 Axes>"
      ]
     },
     "metadata": {},
     "output_type": "display_data"
    }
   ],
   "source": [
    "# GENRES BY COUNTRIES\n",
    "import squarify\n",
    "plt.figure(figsize=(30,15))\n",
    "squarify.plot(value= gen_country['Genre'], label= gen_country['country_main'], sizes= size, alpha=0.8)\n",
    "plt.rc('font', size=14)\n",
    "plt.show()"
   ]
  },
  {
   "cell_type": "markdown",
   "metadata": {},
   "source": [
    "- United states produces most amount of content in 'Comedies' and 'Childern & Family movies' Genres."
   ]
  },
  {
   "cell_type": "markdown",
   "metadata": {},
   "source": [
    "### --> Analysis between budget and revenue"
   ]
  },
  {
   "cell_type": "code",
   "execution_count": 34,
   "metadata": {
    "execution": {
     "iopub.execute_input": "2021-07-12T18:55:50.136379Z",
     "iopub.status.busy": "2021-07-12T18:55:50.136077Z",
     "iopub.status.idle": "2021-07-12T18:55:50.297542Z",
     "shell.execute_reply": "2021-07-12T18:55:50.296406Z",
     "shell.execute_reply.started": "2021-07-12T18:55:50.136351Z"
    },
    "papermill": {
     "duration": 0.191971,
     "end_time": "2021-06-22T09:27:00.850393",
     "exception": false,
     "start_time": "2021-06-22T09:27:00.658422",
     "status": "completed"
    },
    "tags": []
   },
   "outputs": [
    {
     "data": {
      "text/plain": [
       "<seaborn.axisgrid.PairGrid at 0x1d2bacf31f0>"
      ]
     },
     "execution_count": 34,
     "metadata": {},
     "output_type": "execute_result"
    },
    {
     "data": {
      "image/png": "[encoded data removed]",
      "text/plain": [
       "<Figure size 516.35x432 with 12 Axes>"
      ]
     },
     "metadata": {},
     "output_type": "display_data"
    }
   ],
   "source": [
    "import seaborn as sns\n",
    "import matplotlib.pyplot as plt\n",
    "sns.pairplot(df, hue='type', height=2)"
   ]
  },
  {
   "cell_type": "markdown",
   "metadata": {},
   "source": [
    "### --> Analysis of TV Shows with most number of seasons"
   ]
  },
  {
   "cell_type": "code",
   "execution_count": 35,
   "metadata": {
    "execution": {
     "iopub.execute_input": "2021-07-12T18:55:53.836688Z",
     "iopub.status.busy": "2021-07-12T18:55:53.836266Z",
     "iopub.status.idle": "2021-07-12T18:55:53.849912Z",
     "shell.execute_reply": "2021-07-12T18:55:53.848833Z",
     "shell.execute_reply.started": "2021-07-12T18:55:53.836642Z"
    }
   },
   "outputs": [
    {
     "data": {
      "text/plain": [
       "2       1\n",
       "5       1\n",
       "8       9\n",
       "11      1\n",
       "47      1\n",
       "       ..\n",
       "8172    1\n",
       "8214    1\n",
       "8293    1\n",
       "8302    1\n",
       "8599    3\n",
       "Name: duration, Length: 178, dtype: int32"
      ]
     },
     "execution_count": 35,
     "metadata": {},
     "output_type": "execute_result"
    }
   ],
   "source": [
    "tv_df['duration']=tv_df['duration'].str.replace(' Season','')\n",
    "tv_df['duration']=tv_df['duration'].str.replace('s','')\n",
    "tv_df['duration']=tv_df['duration'].astype(str).astype(int)\n",
    "tv_df['duration']"
   ]
  },
  {
   "cell_type": "code",
   "execution_count": 36,
   "metadata": {
    "execution": {
     "iopub.execute_input": "2021-07-12T18:55:53.851651Z",
     "iopub.status.busy": "2021-07-12T18:55:53.851289Z",
     "iopub.status.idle": "2021-07-12T18:55:53.862149Z",
     "shell.execute_reply": "2021-07-12T18:55:53.861338Z",
     "shell.execute_reply.started": "2021-07-12T18:55:53.851610Z"
    }
   },
   "outputs": [],
   "source": [
    "#Extract the columns from tv_df\n",
    "columns=['title','duration']\n",
    "tv_shows = tv_df[columns]"
   ]
  },
  {
   "cell_type": "code",
   "execution_count": 37,
   "metadata": {
    "execution": {
     "iopub.execute_input": "2021-07-12T18:55:53.867526Z",
     "iopub.status.busy": "2021-07-12T18:55:53.866995Z",
     "iopub.status.idle": "2021-07-12T18:55:53.884958Z",
     "shell.execute_reply": "2021-07-12T18:55:53.883626Z",
     "shell.execute_reply.started": "2021-07-12T18:55:53.867491Z"
    }
   },
   "outputs": [
    {
     "data": {
      "text/html": [
       "<div>\n",
       "<style scoped>\n",
       "    .dataframe tbody tr th:only-of-type {\n",
       "        vertical-align: middle;\n",
       "    }\n",
       "\n",
       "    .dataframe tbody tr th {\n",
       "        vertical-align: top;\n",
       "    }\n",
       "\n",
       "    .dataframe thead th {\n",
       "        text-align: right;\n",
       "    }\n",
       "</style>\n",
       "<table border=\"1\" class=\"dataframe\">\n",
       "  <thead>\n",
       "    <tr style=\"text-align: right;\">\n",
       "      <th></th>\n",
       "      <th>title</th>\n",
       "      <th>duration</th>\n",
       "    </tr>\n",
       "  </thead>\n",
       "  <tbody>\n",
       "    <tr>\n",
       "      <th>2423</th>\n",
       "      <td>Supernatural</td>\n",
       "      <td>15</td>\n",
       "    </tr>\n",
       "    <tr>\n",
       "      <th>3541</th>\n",
       "      <td>Naruto</td>\n",
       "      <td>9</td>\n",
       "    </tr>\n",
       "    <tr>\n",
       "      <th>8</th>\n",
       "      <td>The Great British Baking Show</td>\n",
       "      <td>9</td>\n",
       "    </tr>\n",
       "    <tr>\n",
       "      <th>1998</th>\n",
       "      <td>Call the Midwife</td>\n",
       "      <td>9</td>\n",
       "    </tr>\n",
       "    <tr>\n",
       "      <th>2947</th>\n",
       "      <td>Arrow</td>\n",
       "      <td>8</td>\n",
       "    </tr>\n",
       "    <tr>\n",
       "      <th>7896</th>\n",
       "      <td>Royal Pains</td>\n",
       "      <td>8</td>\n",
       "    </tr>\n",
       "    <tr>\n",
       "      <th>380</th>\n",
       "      <td>The Flash</td>\n",
       "      <td>7</td>\n",
       "    </tr>\n",
       "    <tr>\n",
       "      <th>3653</th>\n",
       "      <td>Comedians in Cars Getting Coffee</td>\n",
       "      <td>6</td>\n",
       "    </tr>\n",
       "    <tr>\n",
       "      <th>1173</th>\n",
       "      <td>Men on a Mission</td>\n",
       "      <td>6</td>\n",
       "    </tr>\n",
       "    <tr>\n",
       "      <th>6742</th>\n",
       "      <td>Father Brown</td>\n",
       "      <td>6</td>\n",
       "    </tr>\n",
       "    <tr>\n",
       "      <th>5096</th>\n",
       "      <td>Fullmetal Alchemist: Brotherhood</td>\n",
       "      <td>5</td>\n",
       "    </tr>\n",
       "    <tr>\n",
       "      <th>3477</th>\n",
       "      <td>Gotham</td>\n",
       "      <td>5</td>\n",
       "    </tr>\n",
       "    <tr>\n",
       "      <th>2962</th>\n",
       "      <td>Miraculous: Tales of Ladybug &amp; Cat Noir</td>\n",
       "      <td>5</td>\n",
       "    </tr>\n",
       "    <tr>\n",
       "      <th>2470</th>\n",
       "      <td>Supergirl</td>\n",
       "      <td>5</td>\n",
       "    </tr>\n",
       "    <tr>\n",
       "      <th>2405</th>\n",
       "      <td>DC's Legends of Tomorrow</td>\n",
       "      <td>5</td>\n",
       "    </tr>\n",
       "    <tr>\n",
       "      <th>5674</th>\n",
       "      <td>Merlin</td>\n",
       "      <td>5</td>\n",
       "    </tr>\n",
       "    <tr>\n",
       "      <th>5381</th>\n",
       "      <td>Degrassi: Next Class</td>\n",
       "      <td>4</td>\n",
       "    </tr>\n",
       "    <tr>\n",
       "      <th>2846</th>\n",
       "      <td>Velvet</td>\n",
       "      <td>4</td>\n",
       "    </tr>\n",
       "    <tr>\n",
       "      <th>1419</th>\n",
       "      <td>Last Tango in Halifax</td>\n",
       "      <td>4</td>\n",
       "    </tr>\n",
       "    <tr>\n",
       "      <th>676</th>\n",
       "      <td>Riverdale</td>\n",
       "      <td>4</td>\n",
       "    </tr>\n",
       "  </tbody>\n",
       "</table>\n",
       "</div>"
      ],
      "text/plain": [
       "                                        title  duration\n",
       "2423                             Supernatural        15\n",
       "3541                                   Naruto         9\n",
       "8               The Great British Baking Show         9\n",
       "1998                         Call the Midwife         9\n",
       "2947                                    Arrow         8\n",
       "7896                              Royal Pains         8\n",
       "380                                 The Flash         7\n",
       "3653         Comedians in Cars Getting Coffee         6\n",
       "1173                         Men on a Mission         6\n",
       "6742                             Father Brown         6\n",
       "5096         Fullmetal Alchemist: Brotherhood         5\n",
       "3477                                   Gotham         5\n",
       "2962  Miraculous: Tales of Ladybug & Cat Noir         5\n",
       "2470                                Supergirl         5\n",
       "2405                 DC's Legends of Tomorrow         5\n",
       "5674                                   Merlin         5\n",
       "5381                     Degrassi: Next Class         4\n",
       "2846                                   Velvet         4\n",
       "1419                    Last Tango in Halifax         4\n",
       "676                                 Riverdale         4"
      ]
     },
     "execution_count": 37,
     "metadata": {},
     "output_type": "execute_result"
    }
   ],
   "source": [
    "#sort the dataframe by number of seasons\n",
    "tv_shows = tv_shows.sort_values(by='duration',ascending=False)\n",
    "tv_shows\n",
    "top20 = tv_shows[0:20]\n",
    "top20"
   ]
  },
  {
   "cell_type": "code",
   "execution_count": 38,
   "metadata": {
    "execution": {
     "iopub.execute_input": "2021-07-12T18:55:53.888075Z",
     "iopub.status.busy": "2021-07-12T18:55:53.887738Z",
     "iopub.status.idle": "2021-07-12T18:55:54.396096Z",
     "shell.execute_reply": "2021-07-12T18:55:54.394948Z",
     "shell.execute_reply.started": "2021-07-12T18:55:53.888046Z"
    }
   },
   "outputs": [
    {
     "data": {
      "text/plain": [
       "<AxesSubplot:xlabel='title'>"
      ]
     },
     "execution_count": 38,
     "metadata": {},
     "output_type": "execute_result"
    },
    {
     "data": {
      "text/plain": [
       "<Figure size 1440x432 with 0 Axes>"
      ]
     },
     "metadata": {},
     "output_type": "display_data"
    },
    {
     "data": {
      "image/png": "[encoded data removed]",
      "text/plain": [
       "<Figure size 1440x1944 with 1 Axes>"
      ]
     },
     "metadata": {},
     "output_type": "display_data"
    }
   ],
   "source": [
    "plt.figure(figsize=(20,6))\n",
    "top20.plot(kind='bar',x='title',y='duration', color='purple')"
   ]
  },
  {
   "cell_type": "markdown",
   "metadata": {},
   "source": [
    "- **Supernatural , Naruto** has the highest numbers of seasons"
   ]
  },
  {
   "cell_type": "markdown",
   "metadata": {},
   "source": [
    "### --> Countries on top for movies content creation"
   ]
  },
  {
   "cell_type": "code",
   "execution_count": 40,
   "metadata": {
    "execution": {
     "iopub.execute_input": "2021-07-12T18:55:54.582926Z",
     "iopub.status.busy": "2021-07-12T18:55:54.582598Z",
     "iopub.status.idle": "2021-07-12T18:55:55.012135Z",
     "shell.execute_reply": "2021-07-12T18:55:55.011050Z",
     "shell.execute_reply.started": "2021-07-12T18:55:54.582891Z"
    }
   },
   "outputs": [
    {
     "data": {
      "text/plain": [
       "<AxesSubplot:xlabel='country_main', ylabel='count'>"
      ]
     },
     "execution_count": 40,
     "metadata": {},
     "output_type": "execute_result"
    },
    {
     "data": {
      "image/png": "[encoded data removed]",
      "text/plain": [
       "<Figure size 1080x576 with 1 Axes>"
      ]
     },
     "metadata": {},
     "output_type": "display_data"
    }
   ],
   "source": [
    "plt.figure(figsize=(15,8))\n",
    "sns.set(style=\"darkgrid\")\n",
    "sns.countplot(x=\"country_main\", data=movie_df, palette=\"Accent\", order=movie_df['country_main'].value_counts().index[0:15])"
   ]
  },
  {
   "cell_type": "markdown",
   "metadata": {},
   "source": [
    "### --> Countries on top for TV Show content creation"
   ]
  },
  {
   "cell_type": "code",
   "execution_count": 41,
   "metadata": {
    "execution": {
     "iopub.execute_input": "2021-07-12T18:55:55.013809Z",
     "iopub.status.busy": "2021-07-12T18:55:55.013497Z",
     "iopub.status.idle": "2021-07-12T18:55:55.403487Z",
     "shell.execute_reply": "2021-07-12T18:55:55.402429Z",
     "shell.execute_reply.started": "2021-07-12T18:55:55.013779Z"
    }
   },
   "outputs": [
    {
     "data": {
      "text/plain": [
       "<AxesSubplot:xlabel='country_main', ylabel='count'>"
      ]
     },
     "execution_count": 41,
     "metadata": {},
     "output_type": "execute_result"
    },
    {
     "data": {
      "image/png": "[encoded data removed]",
      "text/plain": [
       "<Figure size 1296x576 with 1 Axes>"
      ]
     },
     "metadata": {},
     "output_type": "display_data"
    }
   ],
   "source": [
    "plt.figure(figsize=(18,8))\n",
    "sns.set(style=\"darkgrid\")\n",
    "sns.countplot(x=\"country_main\", data=tv_df, palette=\"Accent\", order=tv_df['country_main'].value_counts().index[0:15])"
   ]
  },
  {
   "cell_type": "markdown",
   "metadata": {},
   "source": [
    "### --> Directors with most number of Movies produced"
   ]
  },
  {
   "cell_type": "code",
   "execution_count": 42,
   "metadata": {
    "execution": {
     "iopub.execute_input": "2021-07-12T18:55:56.485535Z",
     "iopub.status.busy": "2021-07-12T18:55:56.485247Z",
     "iopub.status.idle": "2021-07-12T18:55:56.861614Z",
     "shell.execute_reply": "2021-07-12T18:55:56.860463Z",
     "shell.execute_reply.started": "2021-07-12T18:55:56.485507Z"
    }
   },
   "outputs": [
    {
     "data": {
      "image/png": "[encoded data removed]",
      "text/plain": [
       "<Figure size 720x576 with 1 Axes>"
      ]
     },
     "metadata": {},
     "output_type": "display_data"
    }
   ],
   "source": [
    "plt.figure(figsize=(10,8))\n",
    "sns.barplot(y= movie_df.director.value_counts()[:10].sort_values().index, x=movie_df.director.value_counts()[:10].sort_values().values);\n",
    "plt.title('Director with most number of movies', color='red', fontsize=18)\n",
    "plt.xticks(movie_df.director.value_counts()[:10].sort_values().values);\n",
    "plt.xlabel('Number of Movies Released');\n"
   ]
  },
  {
   "cell_type": "markdown",
   "metadata": {},
   "source": [
    "### --> Most Popular Genre on Netflix"
   ]
  },
  {
   "cell_type": "code",
   "execution_count": 44,
   "metadata": {
    "execution": {
     "iopub.execute_input": "2021-07-12T18:55:57.219497Z",
     "iopub.status.busy": "2021-07-12T18:55:57.219109Z",
     "iopub.status.idle": "2021-07-12T18:55:57.588872Z",
     "shell.execute_reply": "2021-07-12T18:55:57.587797Z",
     "shell.execute_reply.started": "2021-07-12T18:55:57.219461Z"
    }
   },
   "outputs": [
    {
     "data": {
      "image/png": "[encoded data removed]",
      "text/plain": [
       "<Figure size 1296x720 with 1 Axes>"
      ]
     },
     "metadata": {},
     "output_type": "display_data"
    }
   ],
   "source": [
    "plt.figure(figsize=(18,10))\n",
    "sns.barplot(x= df.Genre.value_counts()[:10].sort_values().index, y=df.Genre.value_counts()[:10].sort_values().values,palette='GnBu');\n",
    "plt.title('Most Popular Genre', color='Blue', fontsize=20)\n",
    "plt.yticks(df.Genre.value_counts()[:10].sort_values().values);\n",
    "plt.xlabel('GENRES');\n",
    "plt.ylabel('Number of contents');"
   ]
  },
  {
   "cell_type": "markdown",
   "metadata": {},
   "source": [
    "## 4. Netflix Recommendation System"
   ]
  },
  {
   "cell_type": "markdown",
   "metadata": {},
   "source": [
    "- For this recommender system the content of the movie (cast, description, director,genre etc) is used to find its similarity with other movies. Then the movies that are most likely to be similar are recommended."
   ]
  },
  {
   "cell_type": "markdown",
   "metadata": {},
   "source": [
    "![](https://miro.medium.com/max/998/1*O_GU8xLVlFx8WweIzKNCNw.png)"
   ]
  },
  {
   "cell_type": "markdown",
   "metadata": {},
   "source": [
    "## Plot description based Recommender"
   ]
  },
  {
   "cell_type": "markdown",
   "metadata": {},
   "source": [
    "- We will calculate similarity scores for all movies based on their plot descriptions and recommend movies based on that similarity score. The plot description is given in the **description** feature of our dataset."
   ]
  },
  {
   "cell_type": "code",
   "execution_count": 46,
   "metadata": {
    "execution": {
     "iopub.execute_input": "2021-07-12T18:55:58.797998Z",
     "iopub.status.busy": "2021-07-12T18:55:58.797563Z",
     "iopub.status.idle": "2021-07-12T18:55:58.804989Z",
     "shell.execute_reply": "2021-07-12T18:55:58.804102Z",
     "shell.execute_reply.started": "2021-07-12T18:55:58.797953Z"
    }
   },
   "outputs": [
    {
     "data": {
      "text/plain": [
       "2    To protect his family from a powerful drug lor...\n",
       "5    The arrival of a charismatic young priest brin...\n",
       "6    Equestria's divided. But a bright-eyed hero be...\n",
       "7    On a photo shoot in Ghana, an American model s...\n",
       "8    A talented batch of amateur bakers face off in...\n",
       "Name: description, dtype: object"
      ]
     },
     "execution_count": 46,
     "metadata": {},
     "output_type": "execute_result"
    }
   ],
   "source": [
    "df['description'].head()"
   ]
  },
  {
   "cell_type": "code",
   "execution_count": 47,
   "metadata": {
    "execution": {
     "iopub.execute_input": "2021-07-12T18:55:58.806524Z",
     "iopub.status.busy": "2021-07-12T18:55:58.806102Z",
     "iopub.status.idle": "2021-07-12T18:55:59.124957Z",
     "shell.execute_reply": "2021-07-12T18:55:59.123823Z",
     "shell.execute_reply.started": "2021-07-12T18:55:58.806492Z"
    }
   },
   "outputs": [],
   "source": [
    "from sklearn.feature_extraction.text import TfidfVectorizer\n",
    "\n",
    "#Define a TF-IDF Vectorizer Object. Remove all english stop words such as 'the', 'a'\n",
    "tfidf = TfidfVectorizer(stop_words='english')"
   ]
  },
  {
   "cell_type": "code",
   "execution_count": 48,
   "metadata": {
    "execution": {
     "iopub.execute_input": "2021-07-12T18:55:59.126677Z",
     "iopub.status.busy": "2021-07-12T18:55:59.126360Z",
     "iopub.status.idle": "2021-07-12T18:55:59.331097Z",
     "shell.execute_reply": "2021-07-12T18:55:59.330139Z",
     "shell.execute_reply.started": "2021-07-12T18:55:59.126641Z"
    }
   },
   "outputs": [
    {
     "data": {
      "text/plain": [
       "(5697, 14765)"
      ]
     },
     "execution_count": 48,
     "metadata": {},
     "output_type": "execute_result"
    }
   ],
   "source": [
    "#Replace NaN with an empty string\n",
    "df['description'] = df['description'].fillna('')\n",
    "\n",
    "#Construct the required TF-IDF matrix by fitting and transforming the data\n",
    "tfidf_matrix = tfidf.fit_transform(df['description'])\n",
    "\n",
    "#Output the shape of tfidf_matrix\n",
    "tfidf_matrix.shape"
   ]
  },
  {
   "cell_type": "code",
   "execution_count": 49,
   "metadata": {},
   "outputs": [
    {
     "data": {
      "text/plain": [
       "<5697x14765 sparse matrix of type '<class 'numpy.float64'>'\n",
       "\twith 78429 stored elements in Compressed Sparse Row format>"
      ]
     },
     "execution_count": 49,
     "metadata": {},
     "output_type": "execute_result"
    }
   ],
   "source": [
    "tfidf_matrix"
   ]
  },
  {
   "cell_type": "code",
   "execution_count": 50,
   "metadata": {
    "execution": {
     "iopub.execute_input": "2021-07-12T18:55:59.332673Z",
     "iopub.status.busy": "2021-07-12T18:55:59.332383Z",
     "iopub.status.idle": "2021-07-12T18:55:59.706887Z",
     "shell.execute_reply": "2021-07-12T18:55:59.705720Z",
     "shell.execute_reply.started": "2021-07-12T18:55:59.332643Z"
    }
   },
   "outputs": [],
   "source": [
    "# Import linear_kernel\n",
    "from sklearn.metrics.pairwise import linear_kernel\n",
    "\n",
    "# Compute the cosine similarity matrix\n",
    "cosine_sim = linear_kernel(tfidf_matrix, tfidf_matrix)"
   ]
  },
  {
   "cell_type": "code",
   "execution_count": 51,
   "metadata": {
    "execution": {
     "iopub.execute_input": "2021-07-12T18:55:59.708585Z",
     "iopub.status.busy": "2021-07-12T18:55:59.708288Z",
     "iopub.status.idle": "2021-07-12T18:55:59.715150Z",
     "shell.execute_reply": "2021-07-12T18:55:59.713785Z",
     "shell.execute_reply.started": "2021-07-12T18:55:59.708556Z"
    }
   },
   "outputs": [],
   "source": [
    "#Construct a reverse map of indices and movie titles\n",
    "indices = pd.Series(df.index, index=df['title']).drop_duplicates()"
   ]
  },
  {
   "cell_type": "code",
   "execution_count": 52,
   "metadata": {
    "execution": {
     "iopub.execute_input": "2021-07-12T18:55:59.717077Z",
     "iopub.status.busy": "2021-07-12T18:55:59.716672Z",
     "iopub.status.idle": "2021-07-12T18:55:59.731237Z",
     "shell.execute_reply": "2021-07-12T18:55:59.729943Z",
     "shell.execute_reply.started": "2021-07-12T18:55:59.717043Z"
    }
   },
   "outputs": [],
   "source": [
    "def get_recommendations(title, cosine_sim=cosine_sim):\n",
    "    idx = indices[title]\n",
    "\n",
    "    # Get the pairwsie similarity scores of all movies with that movie\n",
    "    sim_scores = list(enumerate(cosine_sim[idx]))\n",
    "\n",
    "    # Sort the movies based on the similarity scores\n",
    "    sim_scores = sorted(sim_scores, key=lambda x: x[1], reverse=True)\n",
    "\n",
    "    # Get the scores of the 10 most similar movies\n",
    "    sim_scores = sim_scores[1:11]\n",
    "\n",
    "    # Get the movie indices\n",
    "    movie_indices = [i[0] for i in sim_scores]\n",
    "\n",
    "    # Return the top 10 most similar movies\n",
    "    return df['title'].iloc[movie_indices]"
   ]
  },
  {
   "cell_type": "code",
   "execution_count": 53,
   "metadata": {
    "execution": {
     "iopub.execute_input": "2021-07-12T18:55:59.733109Z",
     "iopub.status.busy": "2021-07-12T18:55:59.732558Z",
     "iopub.status.idle": "2021-07-12T18:55:59.753382Z",
     "shell.execute_reply": "2021-07-12T18:55:59.752290Z",
     "shell.execute_reply.started": "2021-07-12T18:55:59.733058Z"
    }
   },
   "outputs": [
    {
     "data": {
      "text/plain": [
       "3223                          Defiance\n",
       "177               The Guns of Navarone\n",
       "1138                       The Pianist\n",
       "8291                     The Exception\n",
       "1378                     Penguin Bloom\n",
       "2059                            Adrift\n",
       "4646                        On My Skin\n",
       "4082    The Photographer Of Mauthausen\n",
       "786                  Company of Heroes\n",
       "1288                  Operation Finale\n",
       "Name: title, dtype: object"
      ]
     },
     "execution_count": 53,
     "metadata": {},
     "output_type": "execute_result"
    }
   ],
   "source": [
    "get_recommendations('3 Idiots')"
   ]
  },
  {
   "cell_type": "code",
   "execution_count": 54,
   "metadata": {
    "execution": {
     "iopub.execute_input": "2021-07-12T18:55:59.755204Z",
     "iopub.status.busy": "2021-07-12T18:55:59.754827Z",
     "iopub.status.idle": "2021-07-12T18:55:59.770257Z",
     "shell.execute_reply": "2021-07-12T18:55:59.769119Z",
     "shell.execute_reply.started": "2021-07-12T18:55:59.755160Z"
    },
    "scrolled": true
   },
   "outputs": [
    {
     "data": {
      "text/plain": [
       "6592                                  Den of Thieves\n",
       "3494                         Inside Man: Most Wanted\n",
       "6467                                     Chief Daddy\n",
       "2117                          Crazy Awesome Teachers\n",
       "8665                                            Urvi\n",
       "7137                                        John Day\n",
       "58      Naruto Shippûden the Movie: The Will of Fire\n",
       "2375                                 The Blazing Sun\n",
       "195                  EMI: Liya Hai To Chukana Padega\n",
       "2424                 The Last Days of American Crime\n",
       "Name: title, dtype: object"
      ]
     },
     "execution_count": 54,
     "metadata": {},
     "output_type": "execute_result"
    }
   ],
   "source": [
    "get_recommendations('PK')"
   ]
  },
  {
   "cell_type": "code",
   "execution_count": 55,
   "metadata": {},
   "outputs": [
    {
     "data": {
      "text/plain": [
       "6736                        Familiye\n",
       "7951                        Say When\n",
       "1311                  Namaste Wahala\n",
       "5308                           Rocco\n",
       "4152                       Bhasmasur\n",
       "4411                     Bucket List\n",
       "3739                          Luckee\n",
       "6230    Bangkok Traffic (Love) Story\n",
       "8302                        The Five\n",
       "2483         Fifty Year Old Teenager\n",
       "Name: title, dtype: object"
      ]
     },
     "execution_count": 55,
     "metadata": {},
     "output_type": "execute_result"
    }
   ],
   "source": [
    "get_recommendations('Kung Fu Panda')"
   ]
  },
  {
   "cell_type": "markdown",
   "metadata": {},
   "source": [
    "## Multiple metrics(Genre,cast,director)  based Recommender System"
   ]
  },
  {
   "cell_type": "markdown",
   "metadata": {},
   "source": [
    "From the Genre,cast and director features, we need to extract the three most important actors, the director and genres associated with that movie."
   ]
  },
  {
   "cell_type": "code",
   "execution_count": 57,
   "metadata": {
    "execution": {
     "iopub.execute_input": "2021-07-12T18:55:59.771920Z",
     "iopub.status.busy": "2021-07-12T18:55:59.771573Z",
     "iopub.status.idle": "2021-07-12T18:55:59.782342Z",
     "shell.execute_reply": "2021-07-12T18:55:59.781149Z",
     "shell.execute_reply.started": "2021-07-12T18:55:59.771877Z"
    }
   },
   "outputs": [],
   "source": [
    "features=['Genre','director','cast','description','title']\n",
    "filters = df[features]"
   ]
  },
  {
   "cell_type": "code",
   "execution_count": 58,
   "metadata": {
    "execution": {
     "iopub.execute_input": "2021-07-12T18:55:59.784560Z",
     "iopub.status.busy": "2021-07-12T18:55:59.783894Z",
     "iopub.status.idle": "2021-07-12T18:55:59.795709Z",
     "shell.execute_reply": "2021-07-12T18:55:59.794610Z",
     "shell.execute_reply.started": "2021-07-12T18:55:59.784524Z"
    }
   },
   "outputs": [],
   "source": [
    "#Cleaning the data by making all the words in lower case.\n",
    "def clean_data(x):\n",
    "        return str.lower(x.replace(\":\", \"\"))"
   ]
  },
  {
   "cell_type": "code",
   "execution_count": 59,
   "metadata": {
    "execution": {
     "iopub.execute_input": "2021-07-12T18:55:59.797579Z",
     "iopub.status.busy": "2021-07-12T18:55:59.797267Z",
     "iopub.status.idle": "2021-07-12T18:55:59.858010Z",
     "shell.execute_reply": "2021-07-12T18:55:59.856913Z",
     "shell.execute_reply.started": "2021-07-12T18:55:59.797552Z"
    }
   },
   "outputs": [
    {
     "data": {
      "text/html": [
       "<div>\n",
       "<style scoped>\n",
       "    .dataframe tbody tr th:only-of-type {\n",
       "        vertical-align: middle;\n",
       "    }\n",
       "\n",
       "    .dataframe tbody tr th {\n",
       "        vertical-align: top;\n",
       "    }\n",
       "\n",
       "    .dataframe thead th {\n",
       "        text-align: right;\n",
       "    }\n",
       "</style>\n",
       "<table border=\"1\" class=\"dataframe\">\n",
       "  <thead>\n",
       "    <tr style=\"text-align: right;\">\n",
       "      <th></th>\n",
       "      <th>Genre</th>\n",
       "      <th>director</th>\n",
       "      <th>cast</th>\n",
       "      <th>description</th>\n",
       "      <th>title</th>\n",
       "    </tr>\n",
       "  </thead>\n",
       "  <tbody>\n",
       "    <tr>\n",
       "      <th>2</th>\n",
       "      <td>crime tv shows</td>\n",
       "      <td>julien leclercq</td>\n",
       "      <td>sami bouajila, tracy gotoas, samuel jouy, nabi...</td>\n",
       "      <td>to protect his family from a powerful drug lor...</td>\n",
       "      <td>ganglands</td>\n",
       "    </tr>\n",
       "    <tr>\n",
       "      <th>5</th>\n",
       "      <td>tv dramas</td>\n",
       "      <td>mike flanagan</td>\n",
       "      <td>kate siegel, zach gilford, hamish linklater, h...</td>\n",
       "      <td>the arrival of a charismatic young priest brin...</td>\n",
       "      <td>midnight mass</td>\n",
       "    </tr>\n",
       "    <tr>\n",
       "      <th>6</th>\n",
       "      <td>children &amp; family movies</td>\n",
       "      <td>robert cullen, josé luis ucha</td>\n",
       "      <td>vanessa hudgens, kimiko glenn, james marsden, ...</td>\n",
       "      <td>equestria's divided. but a bright-eyed hero be...</td>\n",
       "      <td>my little pony a new generation</td>\n",
       "    </tr>\n",
       "    <tr>\n",
       "      <th>7</th>\n",
       "      <td>dramas</td>\n",
       "      <td>haile gerima</td>\n",
       "      <td>kofi ghanaba, oyafunmike ogunlano, alexandra d...</td>\n",
       "      <td>on a photo shoot in ghana, an american model s...</td>\n",
       "      <td>sankofa</td>\n",
       "    </tr>\n",
       "    <tr>\n",
       "      <th>8</th>\n",
       "      <td>british tv shows</td>\n",
       "      <td>andy devonshire</td>\n",
       "      <td>mel giedroyc, sue perkins, mary berry, paul ho...</td>\n",
       "      <td>a talented batch of amateur bakers face off in...</td>\n",
       "      <td>the great british baking show</td>\n",
       "    </tr>\n",
       "  </tbody>\n",
       "</table>\n",
       "</div>"
      ],
      "text/plain": [
       "                      Genre                       director  \\\n",
       "2            crime tv shows                julien leclercq   \n",
       "5                 tv dramas                  mike flanagan   \n",
       "6  children & family movies  robert cullen, josé luis ucha   \n",
       "7                    dramas                   haile gerima   \n",
       "8          british tv shows                andy devonshire   \n",
       "\n",
       "                                                cast  \\\n",
       "2  sami bouajila, tracy gotoas, samuel jouy, nabi...   \n",
       "5  kate siegel, zach gilford, hamish linklater, h...   \n",
       "6  vanessa hudgens, kimiko glenn, james marsden, ...   \n",
       "7  kofi ghanaba, oyafunmike ogunlano, alexandra d...   \n",
       "8  mel giedroyc, sue perkins, mary berry, paul ho...   \n",
       "\n",
       "                                         description  \\\n",
       "2  to protect his family from a powerful drug lor...   \n",
       "5  the arrival of a charismatic young priest brin...   \n",
       "6  equestria's divided. but a bright-eyed hero be...   \n",
       "7  on a photo shoot in ghana, an american model s...   \n",
       "8  a talented batch of amateur bakers face off in...   \n",
       "\n",
       "                             title  \n",
       "2                        ganglands  \n",
       "5                    midnight mass  \n",
       "6  my little pony a new generation  \n",
       "7                          sankofa  \n",
       "8    the great british baking show  "
      ]
     },
     "execution_count": 59,
     "metadata": {},
     "output_type": "execute_result"
    }
   ],
   "source": [
    "for feature in features:\n",
    "    filters[feature] = filters[feature].apply(clean_data)\n",
    "    \n",
    "filters.head()"
   ]
  },
  {
   "cell_type": "markdown",
   "metadata": {},
   "source": [
    "- We can now create our \"metadata soup\", which is a string that contains all the metadata that we want to feed to our vectorizer."
   ]
  },
  {
   "cell_type": "code",
   "execution_count": 60,
   "metadata": {
    "execution": {
     "iopub.execute_input": "2021-07-12T18:55:59.859603Z",
     "iopub.status.busy": "2021-07-12T18:55:59.859311Z",
     "iopub.status.idle": "2021-07-12T18:55:59.864080Z",
     "shell.execute_reply": "2021-07-12T18:55:59.862978Z",
     "shell.execute_reply.started": "2021-07-12T18:55:59.859575Z"
    }
   },
   "outputs": [],
   "source": [
    "def create_soup(x):\n",
    "    return x['director'] + ' ' + x['cast'] + ' ' +x['Genre']+' '+ x['description']"
   ]
  },
  {
   "cell_type": "code",
   "execution_count": 61,
   "metadata": {
    "execution": {
     "iopub.execute_input": "2021-07-12T18:55:59.866079Z",
     "iopub.status.busy": "2021-07-12T18:55:59.865678Z",
     "iopub.status.idle": "2021-07-12T18:56:00.030708Z",
     "shell.execute_reply": "2021-07-12T18:56:00.029464Z",
     "shell.execute_reply.started": "2021-07-12T18:55:59.866045Z"
    }
   },
   "outputs": [],
   "source": [
    "filters['soup'] = filters.apply(create_soup, axis=1)"
   ]
  },
  {
   "cell_type": "code",
   "execution_count": 62,
   "metadata": {
    "execution": {
     "iopub.execute_input": "2021-07-12T18:56:00.032410Z",
     "iopub.status.busy": "2021-07-12T18:56:00.032113Z",
     "iopub.status.idle": "2021-07-12T18:56:00.318500Z",
     "shell.execute_reply": "2021-07-12T18:56:00.317270Z",
     "shell.execute_reply.started": "2021-07-12T18:56:00.032381Z"
    }
   },
   "outputs": [],
   "source": [
    "# Import CountVectorizer and create the count matrix\n",
    "from sklearn.feature_extraction.text import CountVectorizer\n",
    "\n",
    "count = CountVectorizer(stop_words='english')\n",
    "count_matrix = count.fit_transform(filters['soup'])"
   ]
  },
  {
   "cell_type": "code",
   "execution_count": 63,
   "metadata": {
    "execution": {
     "iopub.execute_input": "2021-07-12T18:56:00.320274Z",
     "iopub.status.busy": "2021-07-12T18:56:00.319980Z",
     "iopub.status.idle": "2021-07-12T18:56:00.665489Z",
     "shell.execute_reply": "2021-07-12T18:56:00.664531Z",
     "shell.execute_reply.started": "2021-07-12T18:56:00.320246Z"
    }
   },
   "outputs": [],
   "source": [
    "# Compute the Cosine Similarity matrix based on the count_matrix\n",
    "from sklearn.metrics.pairwise import cosine_similarity\n",
    "\n",
    "cosine_sim2 = cosine_similarity(count_matrix, count_matrix)"
   ]
  },
  {
   "cell_type": "code",
   "execution_count": 64,
   "metadata": {
    "execution": {
     "iopub.execute_input": "2021-07-12T18:56:00.667199Z",
     "iopub.status.busy": "2021-07-12T18:56:00.666910Z",
     "iopub.status.idle": "2021-07-12T18:56:00.686428Z",
     "shell.execute_reply": "2021-07-12T18:56:00.685168Z",
     "shell.execute_reply.started": "2021-07-12T18:56:00.667171Z"
    }
   },
   "outputs": [
    {
     "data": {
      "text/html": [
       "<div>\n",
       "<style scoped>\n",
       "    .dataframe tbody tr th:only-of-type {\n",
       "        vertical-align: middle;\n",
       "    }\n",
       "\n",
       "    .dataframe tbody tr th {\n",
       "        vertical-align: top;\n",
       "    }\n",
       "\n",
       "    .dataframe thead th {\n",
       "        text-align: right;\n",
       "    }\n",
       "</style>\n",
       "<table border=\"1\" class=\"dataframe\">\n",
       "  <thead>\n",
       "    <tr style=\"text-align: right;\">\n",
       "      <th></th>\n",
       "      <th>Genre</th>\n",
       "      <th>director</th>\n",
       "      <th>cast</th>\n",
       "      <th>description</th>\n",
       "      <th>title</th>\n",
       "      <th>soup</th>\n",
       "    </tr>\n",
       "  </thead>\n",
       "  <tbody>\n",
       "    <tr>\n",
       "      <th>2</th>\n",
       "      <td>crime tv shows</td>\n",
       "      <td>julien leclercq</td>\n",
       "      <td>sami bouajila, tracy gotoas, samuel jouy, nabi...</td>\n",
       "      <td>to protect his family from a powerful drug lor...</td>\n",
       "      <td>ganglands</td>\n",
       "      <td>julien leclercq sami bouajila, tracy gotoas, s...</td>\n",
       "    </tr>\n",
       "    <tr>\n",
       "      <th>5</th>\n",
       "      <td>tv dramas</td>\n",
       "      <td>mike flanagan</td>\n",
       "      <td>kate siegel, zach gilford, hamish linklater, h...</td>\n",
       "      <td>the arrival of a charismatic young priest brin...</td>\n",
       "      <td>midnight mass</td>\n",
       "      <td>mike flanagan kate siegel, zach gilford, hamis...</td>\n",
       "    </tr>\n",
       "    <tr>\n",
       "      <th>6</th>\n",
       "      <td>children &amp; family movies</td>\n",
       "      <td>robert cullen, josé luis ucha</td>\n",
       "      <td>vanessa hudgens, kimiko glenn, james marsden, ...</td>\n",
       "      <td>equestria's divided. but a bright-eyed hero be...</td>\n",
       "      <td>my little pony a new generation</td>\n",
       "      <td>robert cullen, josé luis ucha vanessa hudgens,...</td>\n",
       "    </tr>\n",
       "    <tr>\n",
       "      <th>7</th>\n",
       "      <td>dramas</td>\n",
       "      <td>haile gerima</td>\n",
       "      <td>kofi ghanaba, oyafunmike ogunlano, alexandra d...</td>\n",
       "      <td>on a photo shoot in ghana, an american model s...</td>\n",
       "      <td>sankofa</td>\n",
       "      <td>haile gerima kofi ghanaba, oyafunmike ogunlano...</td>\n",
       "    </tr>\n",
       "    <tr>\n",
       "      <th>8</th>\n",
       "      <td>british tv shows</td>\n",
       "      <td>andy devonshire</td>\n",
       "      <td>mel giedroyc, sue perkins, mary berry, paul ho...</td>\n",
       "      <td>a talented batch of amateur bakers face off in...</td>\n",
       "      <td>the great british baking show</td>\n",
       "      <td>andy devonshire mel giedroyc, sue perkins, mar...</td>\n",
       "    </tr>\n",
       "    <tr>\n",
       "      <th>...</th>\n",
       "      <td>...</td>\n",
       "      <td>...</td>\n",
       "      <td>...</td>\n",
       "      <td>...</td>\n",
       "      <td>...</td>\n",
       "      <td>...</td>\n",
       "    </tr>\n",
       "    <tr>\n",
       "      <th>8801</th>\n",
       "      <td>dramas</td>\n",
       "      <td>majid al ansari</td>\n",
       "      <td>ali suliman, saleh bakri, yasa, ali al-jabri, ...</td>\n",
       "      <td>recovering alcoholic talal wakes up inside a s...</td>\n",
       "      <td>zinzana</td>\n",
       "      <td>majid al ansari ali suliman, saleh bakri, yasa...</td>\n",
       "    </tr>\n",
       "    <tr>\n",
       "      <th>8802</th>\n",
       "      <td>cult movies</td>\n",
       "      <td>david fincher</td>\n",
       "      <td>mark ruffalo, jake gyllenhaal, robert downey j...</td>\n",
       "      <td>a political cartoonist, a crime reporter and a...</td>\n",
       "      <td>zodiac</td>\n",
       "      <td>david fincher mark ruffalo, jake gyllenhaal, r...</td>\n",
       "    </tr>\n",
       "    <tr>\n",
       "      <th>8804</th>\n",
       "      <td>comedies</td>\n",
       "      <td>ruben fleischer</td>\n",
       "      <td>jesse eisenberg, woody harrelson, emma stone, ...</td>\n",
       "      <td>looking to survive in a world taken over by zo...</td>\n",
       "      <td>zombieland</td>\n",
       "      <td>ruben fleischer jesse eisenberg, woody harrels...</td>\n",
       "    </tr>\n",
       "    <tr>\n",
       "      <th>8805</th>\n",
       "      <td>children &amp; family movies</td>\n",
       "      <td>peter hewitt</td>\n",
       "      <td>tim allen, courteney cox, chevy chase, kate ma...</td>\n",
       "      <td>dragged from civilian life, a former superhero...</td>\n",
       "      <td>zoom</td>\n",
       "      <td>peter hewitt tim allen, courteney cox, chevy c...</td>\n",
       "    </tr>\n",
       "    <tr>\n",
       "      <th>8806</th>\n",
       "      <td>dramas</td>\n",
       "      <td>mozez singh</td>\n",
       "      <td>vicky kaushal, sarah-jane dias, raaghav chanan...</td>\n",
       "      <td>a scrappy but poor boy worms his way into a ty...</td>\n",
       "      <td>zubaan</td>\n",
       "      <td>mozez singh vicky kaushal, sarah-jane dias, ra...</td>\n",
       "    </tr>\n",
       "  </tbody>\n",
       "</table>\n",
       "<p>5697 rows × 6 columns</p>\n",
       "</div>"
      ],
      "text/plain": [
       "                         Genre                       director  \\\n",
       "2               crime tv shows                julien leclercq   \n",
       "5                    tv dramas                  mike flanagan   \n",
       "6     children & family movies  robert cullen, josé luis ucha   \n",
       "7                       dramas                   haile gerima   \n",
       "8             british tv shows                andy devonshire   \n",
       "...                        ...                            ...   \n",
       "8801                    dramas                majid al ansari   \n",
       "8802               cult movies                  david fincher   \n",
       "8804                  comedies                ruben fleischer   \n",
       "8805  children & family movies                   peter hewitt   \n",
       "8806                    dramas                    mozez singh   \n",
       "\n",
       "                                                   cast  \\\n",
       "2     sami bouajila, tracy gotoas, samuel jouy, nabi...   \n",
       "5     kate siegel, zach gilford, hamish linklater, h...   \n",
       "6     vanessa hudgens, kimiko glenn, james marsden, ...   \n",
       "7     kofi ghanaba, oyafunmike ogunlano, alexandra d...   \n",
       "8     mel giedroyc, sue perkins, mary berry, paul ho...   \n",
       "...                                                 ...   \n",
       "8801  ali suliman, saleh bakri, yasa, ali al-jabri, ...   \n",
       "8802  mark ruffalo, jake gyllenhaal, robert downey j...   \n",
       "8804  jesse eisenberg, woody harrelson, emma stone, ...   \n",
       "8805  tim allen, courteney cox, chevy chase, kate ma...   \n",
       "8806  vicky kaushal, sarah-jane dias, raaghav chanan...   \n",
       "\n",
       "                                            description  \\\n",
       "2     to protect his family from a powerful drug lor...   \n",
       "5     the arrival of a charismatic young priest brin...   \n",
       "6     equestria's divided. but a bright-eyed hero be...   \n",
       "7     on a photo shoot in ghana, an american model s...   \n",
       "8     a talented batch of amateur bakers face off in...   \n",
       "...                                                 ...   \n",
       "8801  recovering alcoholic talal wakes up inside a s...   \n",
       "8802  a political cartoonist, a crime reporter and a...   \n",
       "8804  looking to survive in a world taken over by zo...   \n",
       "8805  dragged from civilian life, a former superhero...   \n",
       "8806  a scrappy but poor boy worms his way into a ty...   \n",
       "\n",
       "                                title  \\\n",
       "2                           ganglands   \n",
       "5                       midnight mass   \n",
       "6     my little pony a new generation   \n",
       "7                             sankofa   \n",
       "8       the great british baking show   \n",
       "...                               ...   \n",
       "8801                          zinzana   \n",
       "8802                           zodiac   \n",
       "8804                       zombieland   \n",
       "8805                             zoom   \n",
       "8806                           zubaan   \n",
       "\n",
       "                                                   soup  \n",
       "2     julien leclercq sami bouajila, tracy gotoas, s...  \n",
       "5     mike flanagan kate siegel, zach gilford, hamis...  \n",
       "6     robert cullen, josé luis ucha vanessa hudgens,...  \n",
       "7     haile gerima kofi ghanaba, oyafunmike ogunlano...  \n",
       "8     andy devonshire mel giedroyc, sue perkins, mar...  \n",
       "...                                                 ...  \n",
       "8801  majid al ansari ali suliman, saleh bakri, yasa...  \n",
       "8802  david fincher mark ruffalo, jake gyllenhaal, r...  \n",
       "8804  ruben fleischer jesse eisenberg, woody harrels...  \n",
       "8805  peter hewitt tim allen, courteney cox, chevy c...  \n",
       "8806  mozez singh vicky kaushal, sarah-jane dias, ra...  \n",
       "\n",
       "[5697 rows x 6 columns]"
      ]
     },
     "execution_count": 64,
     "metadata": {},
     "output_type": "execute_result"
    }
   ],
   "source": [
    "filters"
   ]
  },
  {
   "cell_type": "code",
   "execution_count": 65,
   "metadata": {
    "execution": {
     "iopub.execute_input": "2021-07-12T18:56:00.688741Z",
     "iopub.status.busy": "2021-07-12T18:56:00.688310Z",
     "iopub.status.idle": "2021-07-12T18:56:00.706126Z",
     "shell.execute_reply": "2021-07-12T18:56:00.704832Z",
     "shell.execute_reply.started": "2021-07-12T18:56:00.688685Z"
    }
   },
   "outputs": [],
   "source": [
    "# Reset index of our main DataFrame and construct reverse mapping as before\n",
    "filters=filters.reset_index()\n",
    "indices = pd.Series(filters.index, index=filters['title'])"
   ]
  },
  {
   "cell_type": "code",
   "execution_count": 66,
   "metadata": {
    "execution": {
     "iopub.execute_input": "2021-07-12T18:56:00.708468Z",
     "iopub.status.busy": "2021-07-12T18:56:00.708042Z",
     "iopub.status.idle": "2021-07-12T18:56:00.717137Z",
     "shell.execute_reply": "2021-07-12T18:56:00.716175Z",
     "shell.execute_reply.started": "2021-07-12T18:56:00.708422Z"
    }
   },
   "outputs": [],
   "source": [
    "def get_recommendations_new(title, cosine_sim=cosine_sim):\n",
    "#     title=title.replace(' ','').lower()\n",
    "    idx = indices[title]\n",
    "\n",
    "    # Get the pairwsie similarity scores of all movies with that movie\n",
    "    sim_scores = list(enumerate(cosine_sim[idx]))\n",
    "\n",
    "    # Sort the movies based on the similarity scores\n",
    "    sim_scores = sorted(sim_scores, key=lambda x: x[1], reverse=True)\n",
    "\n",
    "    # Get the scores of the 10 most similar movies\n",
    "    sim_scores = sim_scores[1:11]\n",
    "\n",
    "    # Get the movie indices\n",
    "    movie_indices = [i[0] for i in sim_scores]\n",
    "\n",
    "    # Return the top 10 most similar movies\n",
    "    return df['title'].iloc[movie_indices]"
   ]
  },
  {
   "cell_type": "code",
   "execution_count": 67,
   "metadata": {
    "execution": {
     "iopub.execute_input": "2021-07-12T18:56:00.720019Z",
     "iopub.status.busy": "2021-07-12T18:56:00.719526Z",
     "iopub.status.idle": "2021-07-12T18:56:00.743154Z",
     "shell.execute_reply": "2021-07-12T18:56:00.741954Z",
     "shell.execute_reply.started": "2021-07-12T18:56:00.719976Z"
    }
   },
   "outputs": [
    {
     "data": {
      "text/plain": [
       "6041                                 A Holiday Engagement\n",
       "1151                         Octonauts & the Ring of Fire\n",
       "1024                               Arlo the Alligator Boy\n",
       "7594                   Norm of the North: Family Vacation\n",
       "1859                   Octonauts & the Great Barrier Reef\n",
       "6798                                           Free Willy\n",
       "8159    Teenage Mutant Ninja Turtles II: The Secret of...\n",
       "7008                Hotel Transylvania 3: Summer Vacation\n",
       "6243                              Barbie: Video Game Hero\n",
       "2858    Calico Critters: Everyone's Big Dream Flying i...\n",
       "Name: title, dtype: object"
      ]
     },
     "execution_count": 67,
     "metadata": {},
     "output_type": "execute_result"
    }
   ],
   "source": [
    "get_recommendations_new('a cinderella story', cosine_sim2)"
   ]
  },
  {
   "cell_type": "code",
   "execution_count": 68,
   "metadata": {},
   "outputs": [
    {
     "data": {
      "text/plain": [
       "7112                     Jack Taylor\n",
       "2939                      Horse Girl\n",
       "7670              Operation Chromite\n",
       "5852                            Hush\n",
       "3928                         Persona\n",
       "6392                         Burning\n",
       "3461              Cheese in the Trap\n",
       "2602    The Forest of Love: Deep Cut\n",
       "5555                 Hoff the Record\n",
       "739                      Wish Dragon\n",
       "Name: title, dtype: object"
      ]
     },
     "execution_count": 68,
     "metadata": {},
     "output_type": "execute_result"
    }
   ],
   "source": [
    "get_recommendations_new('you', cosine_sim2)"
   ]
  },
  {
   "cell_type": "code",
   "execution_count": 69,
   "metadata": {
    "execution": {
     "iopub.execute_input": "2021-07-12T18:56:00.762372Z",
     "iopub.status.busy": "2021-07-12T18:56:00.761922Z",
     "iopub.status.idle": "2021-07-12T18:56:00.781267Z",
     "shell.execute_reply": "2021-07-12T18:56:00.780212Z",
     "shell.execute_reply.started": "2021-07-12T18:56:00.762324Z"
    }
   },
   "outputs": [
    {
     "data": {
      "text/plain": [
       "56               Naruto Shippuden the Movie: Blood Prison\n",
       "7559                      Naruto Shippuden : Blood Prison\n",
       "57                      Naruto Shippûden the Movie: Bonds\n",
       "63      Naruto the Movie: Ninja Clash in the Land of Snow\n",
       "59                            Naruto Shippuden: The Movie\n",
       "58           Naruto Shippûden the Movie: The Will of Fire\n",
       "62      Naruto the Movie 3: Guardians of the Crescent ...\n",
       "5096                     Fullmetal Alchemist: Brotherhood\n",
       "61       Naruto the Movie 2: Legend of the Stone of Gelel\n",
       "1432                                 The Idhun Chronicles\n",
       "Name: title, dtype: object"
      ]
     },
     "execution_count": 69,
     "metadata": {},
     "output_type": "execute_result"
    }
   ],
   "source": [
    "get_recommendations_new('naruto', cosine_sim2)"
   ]
  },
  {
   "cell_type": "code",
   "execution_count": 71,
   "metadata": {
    "execution": {
     "iopub.execute_input": "2021-07-12T18:56:00.762372Z",
     "iopub.status.busy": "2021-07-12T18:56:00.761922Z",
     "iopub.status.idle": "2021-07-12T18:56:00.781267Z",
     "shell.execute_reply": "2021-07-12T18:56:00.780212Z",
     "shell.execute_reply.started": "2021-07-12T18:56:00.762324Z"
    }
   },
   "outputs": [
    {
     "data": {
      "text/plain": [
       "4660                    PK\n",
       "4565    Ek Main Aur Ekk Tu\n",
       "4732       Rang De Basanti\n",
       "8695     War Chhod Na Yaar\n",
       "3131        Dil Chahta Hai\n",
       "7590              No Entry\n",
       "7189                Khushi\n",
       "4507                 Sanju\n",
       "2545       Andaz Apna Apna\n",
       "3132       Dil Dhadakne Do\n",
       "Name: title, dtype: object"
      ]
     },
     "execution_count": 71,
     "metadata": {},
     "output_type": "execute_result"
    }
   ],
   "source": [
    "get_recommendations_new('3 idiots', cosine_sim2)"
   ]
  },
  {
   "cell_type": "code",
   "execution_count": null,
   "metadata": {},
   "outputs": [],
   "source": []
  },
  {
   "cell_type": "code",
   "execution_count": null,
   "metadata": {},
   "outputs": [],
   "source": []
  }
 ],
 "metadata": {
  "kernelspec": {
   "display_name": "Python 3",
   "language": "python",
   "name": "python3"
  },
  "language_info": {
   "codemirror_mode": {
    "name": "ipython",
    "version": 3
   },
   "file_extension": ".py",
   "mimetype": "text/x-python",
   "name": "python",
   "nbconvert_exporter": "python",
   "pygments_lexer": "ipython3",
   "version": "3.8.5"
  }
 },
 "nbformat": 4,
 "nbformat_minor": 4
}
